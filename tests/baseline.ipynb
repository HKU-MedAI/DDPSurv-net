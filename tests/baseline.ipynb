{
 "cells": [
  {
   "cell_type": "code",
   "execution_count": 16,
   "metadata": {},
   "outputs": [],
   "source": [
    "import sys\n",
    "\n",
    "sys.path.append('../')\n",
    "from auton_survival import datasets\n",
    "outcomes, features = datasets.load_support()"
   ]
  },
  {
   "cell_type": "code",
   "execution_count": 17,
   "metadata": {},
   "outputs": [],
   "source": [
    "from auton_survival.preprocessing import Preprocessor\n",
    "cat_feats = ['sex', 'dzgroup', 'dzclass', 'income', 'race', 'ca']\n",
    "num_feats = ['age', 'num.co', 'meanbp', 'wblc', 'hrt', 'resp', \n",
    "\t     'temp', 'pafi', 'alb', 'bili', 'crea', 'sod', 'ph', \n",
    "             'glucose', 'bun', 'urine', 'adlp', 'adls']\n",
    "\n",
    "features = Preprocessor().fit_transform(features, cat_feats=cat_feats, num_feats=num_feats)"
   ]
  },
  {
   "cell_type": "code",
   "execution_count": 11,
   "metadata": {},
   "outputs": [
    {
     "ename": "NameError",
     "evalue": "name 'outcomes' is not defined",
     "output_type": "error",
     "traceback": [
      "\u001b[0;31m---------------------------------------------------------------------------\u001b[0m",
      "\u001b[0;31mNameError\u001b[0m                                 Traceback (most recent call last)",
      "Cell \u001b[0;32mIn[11], line 3\u001b[0m\n\u001b[1;32m      1\u001b[0m \u001b[38;5;28;01mimport\u001b[39;00m \u001b[38;5;21;01mnumpy\u001b[39;00m \u001b[38;5;28;01mas\u001b[39;00m \u001b[38;5;21;01mnp\u001b[39;00m\n\u001b[1;32m      2\u001b[0m horizons \u001b[38;5;241m=\u001b[39m [\u001b[38;5;241m0.25\u001b[39m, \u001b[38;5;241m0.5\u001b[39m, \u001b[38;5;241m0.75\u001b[39m, \u001b[38;5;241m0.9\u001b[39m]\n\u001b[0;32m----> 3\u001b[0m times \u001b[38;5;241m=\u001b[39m np\u001b[38;5;241m.\u001b[39mquantile(\u001b[43moutcomes\u001b[49m\u001b[38;5;241m.\u001b[39mtime[outcomes\u001b[38;5;241m.\u001b[39mevent\u001b[38;5;241m==\u001b[39m\u001b[38;5;241m1\u001b[39m], horizons)\u001b[38;5;241m.\u001b[39mtolist()\n",
      "\u001b[0;31mNameError\u001b[0m: name 'outcomes' is not defined"
     ]
    }
   ],
   "source": [
    "import numpy as np\n",
    "horizons = [0.25, 0.5, 0.75, 0.9]\n",
    "times = np.quantile(outcomes.time[outcomes.event==1], horizons).tolist()"
   ]
  },
  {
   "cell_type": "code",
   "execution_count": 21,
   "metadata": {},
   "outputs": [],
   "source": [
    "x, t, e = features.values, outcomes.time.values, outcomes.event.values\n",
    "\n",
    "n = len(x)\n",
    "\n",
    "tr_size = int(n*0.70)\n",
    "vl_size = int(n*0.10)\n",
    "te_size = int(n*0.20)\n",
    "\n",
    "x_train, x_test, x_val = x[:tr_size], x[-te_size:], x[tr_size:tr_size+vl_size]\n",
    "t_train, t_test, t_val = t[:tr_size], t[-te_size:], t[tr_size:tr_size+vl_size]\n",
    "e_train, e_test, e_val = e[:tr_size], e[-te_size:], e[tr_size:tr_size+vl_size]"
   ]
  },
  {
   "cell_type": "code",
   "execution_count": 14,
   "metadata": {},
   "outputs": [
    {
     "name": "stdout",
     "output_type": "stream",
     "text": [
      "1250450 178635 357271\n"
     ]
    }
   ],
   "source": [
    "from pycox.datasets import from_kkbox\n",
    "# test\n",
    "\n",
    "kkbox_data = from_kkbox._DatasetKKBoxChurn()\n",
    "#kkbox_data.download_kkbox()\n",
    "\n",
    "df = kkbox_data.read_df()\n",
    "\n",
    "import numpy as np\n",
    "import pandas as pd\n",
    "\n",
    "e = np.array(df.event)\n",
    "t = np.array(df.duration)\n",
    "x = df.drop(columns=['event','duration','msno'])\n",
    "\n",
    "from sklearn.preprocessing import LabelEncoder\n",
    "\n",
    "le = LabelEncoder()\n",
    "x['gender'] = le.fit_transform(x['gender'])\n",
    "x['registered_via'] = le.fit_transform(x['registered_via'])\n",
    "x['city'] = le.fit_transform(x['city'])\n",
    "x = np.array(x).astype(float)\n",
    "\n",
    "import os, sys\n",
    "import numpy as np \n",
    "\n",
    "# path = '/home/r10user10/Documents/Jiacheng/dspm-auton-survival'\n",
    "# os.chdir(path)\n",
    "# print(os.getcwd())\n",
    "\n",
    "from auton_survival import datasets\n",
    "\n",
    "n = len(x)\n",
    "\n",
    "tr_size = int(n * 0.70)\n",
    "vl_size = int(n * 0.10)\n",
    "te_size = int(n * 0.20)\n",
    "\n",
    "print(tr_size, vl_size, te_size)\n",
    "\n",
    "x_train, x_test, x_val = x[:tr_size], x[-te_size:], x[tr_size:tr_size + vl_size]\n",
    "t_train, t_test, t_val = t[:tr_size], t[-te_size:], t[tr_size:tr_size + vl_size]\n",
    "e_train, e_test, e_val = e[:tr_size], e[-te_size:], e[tr_size:tr_size + vl_size]"
   ]
  },
  {
   "cell_type": "code",
   "execution_count": 24,
   "metadata": {},
   "outputs": [
    {
     "name": "stderr",
     "output_type": "stream",
     "text": [
      "  0%|          | 0/100 [00:00<?, ?it/s]"
     ]
    },
    {
     "name": "stderr",
     "output_type": "stream",
     "text": [
      " 36%|███▌      | 36/100 [00:03<00:06,  9.68it/s]\n"
     ]
    },
    {
     "data": {
      "text/plain": [
       "<auton_survival.models.cph.DeepCoxPH at 0x7f5193d00af0>"
      ]
     },
     "execution_count": 24,
     "metadata": {},
     "output_type": "execute_result"
    }
   ],
   "source": [
    "from auton_survival import DeepCoxPH\n",
    "\n",
    "model = DeepCoxPH(layers=[100,100])\n",
    "model.fit(x_train, t_train, e_train, iters=100, learning_rate=1e-4)\n"
   ]
  },
  {
   "cell_type": "code",
   "execution_count": 25,
   "metadata": {},
   "outputs": [
    {
     "name": "stdout",
     "output_type": "stream",
     "text": [
      "[14.0, 58.0, 252.0, 634.0]\n",
      "[0.14317213 0.30113581 0.48111739 0.6118528 ]\n",
      "[0.85682787 0.69886419 0.51888261 0.3881472 ]\n",
      "For 0.25 quantile\n",
      "TD Concordance Index: 0.6871456067024558\n",
      "Brier Score: 0.11852332162339607\n",
      "ROC AUC  0.6929623119145665 \n",
      "\n",
      "For 0.5 quantile\n",
      "TD Concordance Index: 0.6668667540970674\n",
      "Brier Score: 0.1945653944322709\n",
      "ROC AUC  0.6911809510417398 \n",
      "\n",
      "For 0.75 quantile\n",
      "TD Concordance Index: 0.6662968752911048\n",
      "Brier Score: 0.22173971610095355\n",
      "ROC AUC  0.7140522202701884 \n",
      "\n",
      "For 0.9 quantile\n",
      "TD Concordance Index: 0.665253720853873\n",
      "Brier Score: 0.1780258488156854\n",
      "ROC AUC  0.7138424641970121 \n",
      "\n"
     ]
    }
   ],
   "source": [
    "horizons = [0.25, 0.5, 0.75, 0.9]\n",
    "times = np.quantile(t[e == 1], horizons).tolist()\n",
    "print(times)\n",
    "out_risk = model.predict_risk(x_test, times)\n",
    "print(out_risk[0])\n",
    "out_survival = model.predict_survival(x_test, times)\n",
    "print(out_survival[0])\n",
    "from sksurv.metrics import concordance_index_ipcw, brier_score, cumulative_dynamic_auc\n",
    "\n",
    "cis = []\n",
    "brs = []\n",
    "\n",
    "et_train = np.array([(e_train[i], t_train[i]) for i in range(len(e_train))],\n",
    "                 dtype = [('e', bool), ('t', float)])\n",
    "#print(et_train)\n",
    "et_test = np.array([(e_test[i], t_test[i]) for i in range(len(e_test))],\n",
    "                 dtype = [('e', bool), ('t', float)])\n",
    "# et_val = np.array([(e_val[i], t_val[i]) for i in range(len(e_val))],\n",
    "#                  dtype = [('e', bool), ('t', float)])\n",
    "# print(et_train[0:10])\n",
    "for i, _ in enumerate(times):\n",
    "    cis.append(concordance_index_ipcw(et_train, et_test, out_risk[:, i], times[i])[0])\n",
    "brs.append(brier_score(et_train, et_test, out_survival, times)[1])\n",
    "roc_auc = []\n",
    "for i, _ in enumerate(times):\n",
    "    roc_auc.append(cumulative_dynamic_auc(et_train, et_test, out_risk[:, i], times[i])[0])\n",
    "for horizon in enumerate(horizons):\n",
    "    print(f\"For {horizon[1]} quantile\")\n",
    "    print(\"TD Concordance Index:\", cis[horizon[0]])\n",
    "    print(\"Brier Score:\", brs[0][horizon[0]])\n",
    "    print(\"ROC AUC \", roc_auc[horizon[0]][0], \"\\n\")"
   ]
  },
  {
   "cell_type": "code",
   "execution_count": 26,
   "metadata": {},
   "outputs": [
    {
     "name": "stdout",
     "output_type": "stream",
     "text": [
      "1250450 178635 357271\n"
     ]
    }
   ],
   "source": [
    "# from pycox.datasets import from_kkbox\n",
    "# # test\n",
    "\n",
    "# kkbox_data = from_kkbox._DatasetKKBoxChurn()\n",
    "# #kkbox_data.download_kkbox()\n",
    "\n",
    "# df = kkbox_data.read_df()\n",
    "\n",
    "# import numpy as np\n",
    "# import pandas as pd\n",
    "\n",
    "# e = np.array(df.event)\n",
    "# t = np.array(df.duration)\n",
    "# x = df.drop(columns=['event','duration','msno'])\n",
    "\n",
    "# from sklearn.preprocessing import LabelEncoder\n",
    "\n",
    "# le = LabelEncoder()\n",
    "# x['gender'] = le.fit_transform(x['gender'])\n",
    "# x['registered_via'] = le.fit_transform(x['registered_via'])\n",
    "# x['city'] = le.fit_transform(x['city'])\n",
    "# x = np.array(x).astype(float)\n",
    "\n",
    "# import os, sys\n",
    "# import numpy as np \n",
    "\n",
    "# # path = '/home/r10user10/Documents/Jiacheng/dspm-auton-survival'\n",
    "# # os.chdir(path)\n",
    "# # print(os.getcwd())\n",
    "\n",
    "# from auton_survival import datasets\n",
    "\n",
    "# n = len(x)\n",
    "\n",
    "# tr_size = int(n * 0.70)\n",
    "# vl_size = int(n * 0.10)\n",
    "# te_size = int(n * 0.20)\n",
    "\n",
    "# print(tr_size, vl_size, te_size)\n",
    "\n",
    "# x_train, x_test, x_val = x[:tr_size], x[-te_size:], x[tr_size:tr_size + vl_size]\n",
    "# t_train, t_test, t_val = t[:tr_size], t[-te_size:], t[tr_size:tr_size + vl_size]\n",
    "# e_train, e_test, e_val = e[:tr_size], e[-te_size:], e[tr_size:tr_size + vl_size]"
   ]
  },
  {
   "cell_type": "code",
   "execution_count": 27,
   "metadata": {},
   "outputs": [
    {
     "ename": "ValueError",
     "evalue": "Found input variables with inconsistent numbers of samples: [1250450, 6373, 6373]",
     "output_type": "error",
     "traceback": [
      "\u001b[0;31m---------------------------------------------------------------------------\u001b[0m",
      "\u001b[0;31mValueError\u001b[0m                                Traceback (most recent call last)",
      "Cell \u001b[0;32mIn[27], line 4\u001b[0m\n\u001b[1;32m      1\u001b[0m \u001b[38;5;28;01mfrom\u001b[39;00m \u001b[38;5;21;01msksurv\u001b[39;00m\u001b[38;5;21;01m.\u001b[39;00m\u001b[38;5;21;01mlinear_model\u001b[39;00m \u001b[38;5;28;01mimport\u001b[39;00m CoxPHSurvivalAnalysis\n\u001b[1;32m      3\u001b[0m cph \u001b[38;5;241m=\u001b[39m CoxPHSurvivalAnalysis()\n\u001b[0;32m----> 4\u001b[0m \u001b[43mcph\u001b[49m\u001b[38;5;241;43m.\u001b[39;49m\u001b[43mfit\u001b[49m\u001b[43m(\u001b[49m\u001b[43mx_train\u001b[49m\u001b[43m,\u001b[49m\u001b[43m \u001b[49m\u001b[43met_train\u001b[49m\u001b[43m)\u001b[49m\n\u001b[1;32m      5\u001b[0m pre \u001b[38;5;241m=\u001b[39m cph\u001b[38;5;241m.\u001b[39mpredict(x_test)\n\u001b[1;32m      7\u001b[0m et_train \u001b[38;5;241m=\u001b[39m np\u001b[38;5;241m.\u001b[39marray([(e_train[i], t_train[i]) \u001b[38;5;28;01mfor\u001b[39;00m i \u001b[38;5;129;01min\u001b[39;00m \u001b[38;5;28mrange\u001b[39m(\u001b[38;5;28mlen\u001b[39m(e_train))],\n\u001b[1;32m      8\u001b[0m                  dtype \u001b[38;5;241m=\u001b[39m [(\u001b[38;5;124m'\u001b[39m\u001b[38;5;124me\u001b[39m\u001b[38;5;124m'\u001b[39m, \u001b[38;5;28mbool\u001b[39m), (\u001b[38;5;124m'\u001b[39m\u001b[38;5;124mt\u001b[39m\u001b[38;5;124m'\u001b[39m, \u001b[38;5;28mfloat\u001b[39m)])\n",
      "File \u001b[0;32m~/Documents/anaconda3/envs/python310/lib/python3.10/site-packages/sksurv/linear_model/coxph.py:417\u001b[0m, in \u001b[0;36mCoxPHSurvivalAnalysis.fit\u001b[0;34m(self, X, y)\u001b[0m\n\u001b[1;32m    414\u001b[0m \u001b[38;5;28mself\u001b[39m\u001b[38;5;241m.\u001b[39m_validate_params()\n\u001b[1;32m    416\u001b[0m X \u001b[38;5;241m=\u001b[39m \u001b[38;5;28mself\u001b[39m\u001b[38;5;241m.\u001b[39m_validate_data(X, ensure_min_samples\u001b[38;5;241m=\u001b[39m\u001b[38;5;241m2\u001b[39m, dtype\u001b[38;5;241m=\u001b[39mnp\u001b[38;5;241m.\u001b[39mfloat64)\n\u001b[0;32m--> 417\u001b[0m event, time \u001b[38;5;241m=\u001b[39m \u001b[43mcheck_array_survival\u001b[49m\u001b[43m(\u001b[49m\u001b[43mX\u001b[49m\u001b[43m,\u001b[49m\u001b[43m \u001b[49m\u001b[43my\u001b[49m\u001b[43m)\u001b[49m\n\u001b[1;32m    419\u001b[0m \u001b[38;5;28;01mif\u001b[39;00m \u001b[38;5;28misinstance\u001b[39m(\u001b[38;5;28mself\u001b[39m\u001b[38;5;241m.\u001b[39malpha, (numbers\u001b[38;5;241m.\u001b[39mReal, numbers\u001b[38;5;241m.\u001b[39mIntegral)):\n\u001b[1;32m    420\u001b[0m     alphas \u001b[38;5;241m=\u001b[39m np\u001b[38;5;241m.\u001b[39mempty(X\u001b[38;5;241m.\u001b[39mshape[\u001b[38;5;241m1\u001b[39m], dtype\u001b[38;5;241m=\u001b[39m\u001b[38;5;28mfloat\u001b[39m)\n",
      "File \u001b[0;32m~/Documents/anaconda3/envs/python310/lib/python3.10/site-packages/sksurv/util.py:189\u001b[0m, in \u001b[0;36mcheck_array_survival\u001b[0;34m(X, y)\u001b[0m\n\u001b[1;32m    165\u001b[0m \u001b[38;5;250m\u001b[39m\u001b[38;5;124;03m\"\"\"Check that all arrays have consistent first dimensions.\u001b[39;00m\n\u001b[1;32m    166\u001b[0m \n\u001b[1;32m    167\u001b[0m \u001b[38;5;124;03mParameters\u001b[39;00m\n\u001b[0;32m   (...)\u001b[0m\n\u001b[1;32m    186\u001b[0m \u001b[38;5;124;03m    Time of event or censoring.\u001b[39;00m\n\u001b[1;32m    187\u001b[0m \u001b[38;5;124;03m\"\"\"\u001b[39;00m\n\u001b[1;32m    188\u001b[0m event, time \u001b[38;5;241m=\u001b[39m check_y_survival(y)\n\u001b[0;32m--> 189\u001b[0m \u001b[43mcheck_consistent_length\u001b[49m\u001b[43m(\u001b[49m\u001b[43mX\u001b[49m\u001b[43m,\u001b[49m\u001b[43m \u001b[49m\u001b[43mevent\u001b[49m\u001b[43m,\u001b[49m\u001b[43m \u001b[49m\u001b[43mtime\u001b[49m\u001b[43m)\u001b[49m\n\u001b[1;32m    190\u001b[0m \u001b[38;5;28;01mreturn\u001b[39;00m event, time\n",
      "File \u001b[0;32m~/Documents/anaconda3/envs/python310/lib/python3.10/site-packages/sklearn/utils/validation.py:397\u001b[0m, in \u001b[0;36mcheck_consistent_length\u001b[0;34m(*arrays)\u001b[0m\n\u001b[1;32m    395\u001b[0m uniques \u001b[38;5;241m=\u001b[39m np\u001b[38;5;241m.\u001b[39munique(lengths)\n\u001b[1;32m    396\u001b[0m \u001b[38;5;28;01mif\u001b[39;00m \u001b[38;5;28mlen\u001b[39m(uniques) \u001b[38;5;241m>\u001b[39m \u001b[38;5;241m1\u001b[39m:\n\u001b[0;32m--> 397\u001b[0m     \u001b[38;5;28;01mraise\u001b[39;00m \u001b[38;5;167;01mValueError\u001b[39;00m(\n\u001b[1;32m    398\u001b[0m         \u001b[38;5;124m\"\u001b[39m\u001b[38;5;124mFound input variables with inconsistent numbers of samples: \u001b[39m\u001b[38;5;132;01m%r\u001b[39;00m\u001b[38;5;124m\"\u001b[39m\n\u001b[1;32m    399\u001b[0m         \u001b[38;5;241m%\u001b[39m [\u001b[38;5;28mint\u001b[39m(l) \u001b[38;5;28;01mfor\u001b[39;00m l \u001b[38;5;129;01min\u001b[39;00m lengths]\n\u001b[1;32m    400\u001b[0m     )\n",
      "\u001b[0;31mValueError\u001b[0m: Found input variables with inconsistent numbers of samples: [1250450, 6373, 6373]"
     ]
    }
   ],
   "source": [
    "from sksurv.linear_model import CoxPHSurvivalAnalysis\n",
    "\n",
    "cph = CoxPHSurvivalAnalysis()\n",
    "cph.fit(x_train, et_train)\n",
    "pre = cph.predict(x_test)\n",
    "\n",
    "et_train = np.array([(e_train[i], t_train[i]) for i in range(len(e_train))],\n",
    "                 dtype = [('e', bool), ('t', float)])\n",
    "et_test = np.array([(e_test[i], t_test[i]) for i in range(len(e_test))],\n",
    "                 dtype = [('e', bool), ('t', float)])\n",
    "\n",
    "concordance_index_ipcw(et_train, et_test, pre)[0]"
   ]
  },
  {
   "cell_type": "code",
   "execution_count": null,
   "metadata": {},
   "outputs": [
    {
     "name": "stderr",
     "output_type": "stream",
     "text": [
      "/home/r10user10/Documents/anaconda3/envs/python310/lib/python3.10/site-packages/tqdm/auto.py:21: TqdmWarning: IProgress not found. Please update jupyter and ipywidgets. See https://ipywidgets.readthedocs.io/en/stable/user_install.html\n",
      "  from .autonotebook import tqdm as notebook_tqdm\n"
     ]
    }
   ],
   "source": [
    "import sys\n",
    "\n",
    "sys.path.append('../')\n",
    "from auton_survival import datasets\n",
    "outcomes, features = datasets.load_support()\n",
    "from auton_survival.preprocessing import Preprocessor\n",
    "cat_feats = ['sex', 'dzgroup', 'dzclass', 'income', 'race', 'ca']\n",
    "num_feats = ['age', 'num.co', 'meanbp', 'wblc', 'hrt', 'resp', \n",
    "\t     'temp', 'pafi', 'alb', 'bili', 'crea', 'sod', 'ph', \n",
    "             'glucose', 'bun', 'urine', 'adlp', 'adls']\n",
    "\n",
    "features = Preprocessor().fit_transform(features, cat_feats=cat_feats, num_feats=num_feats)"
   ]
  },
  {
   "cell_type": "code",
   "execution_count": null,
   "metadata": {},
   "outputs": [],
   "source": [
    "import numpy as np\n",
    "horizons = [0.25, 0.5, 0.75, 0.9]\n",
    "times = np.quantile(outcomes.time[outcomes.event==1], horizons).tolist()"
   ]
  },
  {
   "cell_type": "code",
   "execution_count": null,
   "metadata": {},
   "outputs": [],
   "source": [
    "x, t, e = features.values, outcomes.time.values, outcomes.event.values\n",
    "\n",
    "n = len(x)\n",
    "\n",
    "tr_size = int(n*0.70)\n",
    "vl_size = int(n*0.10)\n",
    "te_size = int(n*0.20)\n",
    "\n",
    "x_train, x_test, x_val = x[:tr_size], x[-te_size:], x[tr_size:tr_size+vl_size]\n",
    "t_train, t_test, t_val = t[:tr_size], t[-te_size:], t[tr_size:tr_size+vl_size]\n",
    "e_train, e_test, e_val = e[:tr_size], e[-te_size:], e[tr_size:tr_size+vl_size]"
   ]
  },
  {
   "cell_type": "code",
   "execution_count": null,
   "metadata": {},
   "outputs": [
    {
     "name": "stderr",
     "output_type": "stream",
     "text": [
      " 77%|███████▋  | 7684/10000 [00:15<00:04, 510.39it/s]\n",
      "100%|██████████| 100/100 [00:19<00:00,  5.23it/s]\n"
     ]
    },
    {
     "data": {
      "text/plain": [
       "<auton_survival.models.dsm.DeepSurvivalMachines at 0x7f53748f0c40>"
      ]
     },
     "execution_count": 8,
     "metadata": {},
     "output_type": "execute_result"
    }
   ],
   "source": [
    "from auton_survival.models.dsm import DeepSurvivalMachines\n",
    "model = DeepSurvivalMachines(k = 3,\n",
    "                                distribution = 'LogNormal',\n",
    "                                layers = [100,100])\n",
    "# The fit method is called to train the model\n",
    "model.fit(x_train, t_train, e_train, iters = 100, learning_rate = 1e-5)"
   ]
  },
  {
   "cell_type": "code",
   "execution_count": null,
   "metadata": {},
   "outputs": [
    {
     "name": "stdout",
     "output_type": "stream",
     "text": [
      "For 0.25 quantile\n",
      "TD Concordance Index: 0.7232312177449028\n",
      "Brier Score: 0.11617837587122909\n",
      "ROC AUC  0.7303541612601541 \n",
      "\n",
      "For 0.5 quantile\n",
      "TD Concordance Index: 0.6772881456209202\n",
      "Brier Score: 0.19385375149447842\n",
      "ROC AUC  0.6920261196653308 \n",
      "\n",
      "For 0.75 quantile\n",
      "TD Concordance Index: 0.642599458354434\n",
      "Brier Score: 0.23662224079581234\n",
      "ROC AUC  0.6883201066214334 \n",
      "\n",
      "For 0.9 quantile\n",
      "TD Concordance Index: 0.6177963553329717\n",
      "Brier Score: 0.18929803538852297\n",
      "ROC AUC  0.6945794222304769 \n",
      "\n"
     ]
    }
   ],
   "source": [
    "out_risk = model.predict_risk(x_test, times)\n",
    "out_survival = model.predict_survival(x_test, times)\n",
    "\n",
    "from sksurv.metrics import concordance_index_ipcw, brier_score, cumulative_dynamic_auc\n",
    "\n",
    "cis = []\n",
    "brs = []\n",
    "\n",
    "et_train = np.array([(e_train[i], t_train[i]) for i in range(len(e_train))],\n",
    "                 dtype = [('e', bool), ('t', float)])\n",
    "#print(et_train)\n",
    "et_test = np.array([(e_test[i], t_test[i]) for i in range(len(e_test))],\n",
    "                 dtype = [('e', bool), ('t', float)])\n",
    "# et_val = np.array([(e_val[i], t_val[i]) for i in range(len(e_val))],\n",
    "#                  dtype = [('e', bool), ('t', float)])\n",
    "# print(et_train[0:10])\n",
    "for i, _ in enumerate(times):\n",
    "    cis.append(concordance_index_ipcw(et_train, et_test, out_risk[:, i], times[i])[0])\n",
    "brs.append(brier_score(et_train, et_test, out_survival, times)[1])\n",
    "roc_auc = []\n",
    "for i, _ in enumerate(times):\n",
    "    roc_auc.append(cumulative_dynamic_auc(et_train, et_test, out_risk[:, i], times[i])[0])\n",
    "for horizon in enumerate(horizons):\n",
    "    print(f\"For {horizon[1]} quantile\")\n",
    "    print(\"TD Concordance Index:\", cis[horizon[0]])\n",
    "    print(\"Brier Score:\", brs[0][horizon[0]])\n",
    "    print(\"ROC AUC \", roc_auc[horizon[0]][0], \"\\n\")"
   ]
  },
  {
   "cell_type": "code",
   "execution_count": 1,
   "metadata": {},
   "outputs": [],
   "source": [
    "def support():\n",
    "    import sys\n",
    "    sys.path.append('../')\n",
    "    from auton_survival import datasets\n",
    "    outcomes, features = datasets.load_support()\n",
    "    from auton_survival.preprocessing import Preprocessor\n",
    "    cat_feats = ['sex', 'dzgroup', 'dzclass', 'income', 'race', 'ca']\n",
    "    num_feats = ['age', 'num.co', 'meanbp', 'wblc', 'hrt', 'resp', \n",
    "            'temp', 'pafi', 'alb', 'bili', 'crea', 'sod', 'ph', \n",
    "                'glucose', 'bun', 'urine', 'adlp', 'adls']\n",
    "\n",
    "    features = Preprocessor().fit_transform(features, cat_feats=cat_feats, num_feats=num_feats)\n",
    "    x, t, e = features.values, outcomes.time.values, outcomes.event.values\n",
    "\n",
    "    n = len(x)\n",
    "\n",
    "    tr_size = int(n*0.80)\n",
    "    te_size = int(n*0.20)\n",
    "\n",
    "    x_train, x_test = x[:tr_size], x[-te_size:]\n",
    "    t_train, t_test = t[:tr_size], t[-te_size:]\n",
    "    e_train, e_test = e[:tr_size], e[-te_size:]\n",
    "    return x_train, t_train , e_train, x_test, t_test , e_test"
   ]
  },
  {
   "cell_type": "code",
   "execution_count": 2,
   "metadata": {},
   "outputs": [],
   "source": [
    "def synthetic():\n",
    "    import pandas as pd\n",
    "    import torch\n",
    "    from tqdm import tqdm \n",
    "    import sys\n",
    "    sys.path.append('../')\n",
    "\n",
    "    from auton_survival.datasets import load_dataset\n",
    "\n",
    "    # Load the synthetic dataset\n",
    "    outcomes, features, interventions = load_dataset(dataset='SYNTHETIC')\n",
    "\n",
    "    # Hyper-parameters\n",
    "    random_seed = 0\n",
    "    test_size = 0.25\n",
    "\n",
    "    # Split the synthetic data into training and testing data\n",
    "    import numpy as np\n",
    "\n",
    "    np.random.seed(random_seed)\n",
    "    n = features.shape[0] \n",
    "\n",
    "    test_idx = np.zeros(n).astype('bool')\n",
    "    test_idx[np.random.randint(n, size=int(n*test_size))] = True \n",
    "\n",
    "    features_tr = features.iloc[~test_idx] \n",
    "    outcomes_tr = outcomes.iloc[~test_idx]\n",
    "    interventions_tr = interventions[~test_idx]\n",
    "    print(f'Number of training data points: {len(features_tr)}')\n",
    "\n",
    "    features_te = features.iloc[test_idx] \n",
    "    outcomes_te = outcomes.iloc[test_idx]\n",
    "    interventions_te = interventions[test_idx]\n",
    "    print(f'Number of test data points: {len(features_te)}')\n",
    "\n",
    "    interventions_tr.name, interventions_te.name = 'treat', 'treat'\n",
    "    features_tr_dcph = pd.concat([features_tr, interventions_tr.astype('float64')], axis=1)\n",
    "    features_te_dcph = pd.concat([features_te, interventions_te.astype('float64')], axis=1)\n",
    "    outcomes_tr_dcph = pd.DataFrame(outcomes_tr, columns=['event', 'time']).astype('float64')\n",
    "\n",
    "\n",
    "    x_train = features_tr_dcph.values\n",
    "    e_train = outcomes_tr['event'].values.astype(float)\n",
    "    t_train = outcomes_tr['time'].values\n",
    "\n",
    "    x_test = features_te_dcph.values\n",
    "    e_test = outcomes_te['event'].values.astype(float)\n",
    "    t_test = outcomes_te['time'].values\n",
    "    return x_train, t_train , e_train, x_test, t_test , e_test\n"
   ]
  },
  {
   "cell_type": "code",
   "execution_count": 3,
   "metadata": {},
   "outputs": [],
   "source": [
    "def kkbox():\n",
    "    from pycox.datasets import from_kkbox\n",
    "\n",
    "\n",
    "    kkbox_data = from_kkbox._DatasetKKBoxChurn()\n",
    "    #kkbox_data.download_kkbox()\n",
    "\n",
    "    df = kkbox_data.read_df()\n",
    "\n",
    "    import numpy as np\n",
    "    import pandas as pd\n",
    "\n",
    "    e = np.array(df.event)\n",
    "    t = np.array(df.duration)\n",
    "    x = df.drop(columns=['event','duration','msno'])\n",
    "\n",
    "    from sklearn.preprocessing import LabelEncoder\n",
    "\n",
    "    le = LabelEncoder()\n",
    "    x['gender'] = le.fit_transform(x['gender'])\n",
    "    x['registered_via'] = le.fit_transform(x['registered_via'])\n",
    "    x['city'] = le.fit_transform(x['city'])\n",
    "    x = np.array(x).astype(float)\n",
    "\n",
    "    import os, sys\n",
    "    import numpy as np \n",
    "\n",
    "    # path = '/home/r10user10/Documents/Jiacheng/dspm-auton-survival'\n",
    "    # os.chdir(path)\n",
    "    # print(os.getcwd())\n",
    "\n",
    "    from auton_survival import datasets\n",
    "\n",
    "    n = len(x)\n",
    "\n",
    "    tr_size = int(n * 0.80)\n",
    "    te_size = int(n * 0.20)\n",
    "\n",
    "\n",
    "    x_train, x_test = x[:tr_size], x[-te_size:]\n",
    "    t_train, t_test = t[:tr_size], t[-te_size:]\n",
    "    e_train, e_test = e[:tr_size], e[-te_size:]\n",
    "    return x_train, t_train , e_train, x_test, t_test , e_test"
   ]
  },
  {
   "cell_type": "code",
   "execution_count": 4,
   "metadata": {},
   "outputs": [],
   "source": [
    "def mimic():\n",
    "    import numpy as np\n",
    "    x_train = np.load('x_train.npy')\n",
    "    t_train = np.load('t_train.npy')\n",
    "    e_train = 1 - np.load('e_train.npy')\n",
    "    index = np.where(t_train <= 0)[0]\n",
    "    t_train = np.delete(t_train, index)\n",
    "    e_train = np.delete(e_train, index)\n",
    "    x_train = np.delete(x_train, index, axis=0)\n",
    "    x_test = np.load('x_test.npy')\n",
    "    t_test = np.load('t_test.npy')\n",
    "    e_test = 1 - np.load('e_test.npy')\n",
    "    index = np.where(t_test <= 0)[0]\n",
    "    t_test = np.delete(t_test, index)\n",
    "    e_test = np.delete(e_test, index)\n",
    "    x_test = np.delete(x_test, index, axis=0)\n",
    "    x_train = np.mean(x_train, axis=1)\n",
    "    x_test = np.mean(x_test, axis=1)\n",
    "    print(x_train.shape)\n",
    "    return x_train, t_train , e_train, x_test, t_test , e_test"
   ]
  },
  {
   "cell_type": "code",
   "execution_count": 17,
   "metadata": {},
   "outputs": [],
   "source": [
    "def baseline(baseline, dataset, lr):\n",
    "    if baseline == 'DeepCox':\n",
    "        from auton_survival import DeepCoxPH\n",
    "        model = DeepCoxPH(layers=[100,100])\n",
    "    if baseline == 'DSM':\n",
    "        from auton_survival.models.dsm import DeepSurvivalMachines\n",
    "        model = DeepSurvivalMachines(k = 3,\n",
    "                                distribution = 'LogNormal',\n",
    "                                layers = [100,100])\n",
    "    if baseline == 'DCM':\n",
    "        from auton_survival.models.dcm import DeepCoxMixtures\n",
    "        model = DeepCoxMixtures(k = 3, layers = [100,100])\n",
    "\n",
    "    if dataset == 'support':\n",
    "        x_train, t_train , e_train, x_test, t_test , e_test = support()\n",
    "    if dataset == 'synthetic':\n",
    "        x_train, t_train , e_train, x_test, t_test , e_test = synthetic()\n",
    "    if dataset == 'kkbox':\n",
    "        x_train, t_train , e_train, x_test, t_test , e_test = kkbox()\n",
    "    if dataset == 'mimic':\n",
    "        x_train, t_train , e_train, x_test, t_test , e_test = mimic()   \n",
    "    \n",
    "    model.fit(x_train, t_train, e_train, iters = 100, learning_rate = lr)\n",
    "    horizons = [0.25, 0.5, 0.75, 0.9]\n",
    "    x = np.concatenate((x_train, x_test), axis=0)\n",
    "    t = np.concatenate((t_train, t_test), axis=0)\n",
    "    e = np.concatenate((e_train, e_test), axis=0)\n",
    "    times = np.quantile(t[e==1], horizons).tolist()\n",
    "    out_risk = 1 - model.predict_survival(x_test, times)\n",
    "    out_survival = model.predict_survival(x_test, times)\n",
    "\n",
    "    from sksurv.metrics import concordance_index_ipcw, brier_score, cumulative_dynamic_auc\n",
    "\n",
    "    cis = []\n",
    "    brs = []\n",
    "\n",
    "    et_train = np.array([(e_train[i], t_train[i]) for i in range(len(e_train))],\n",
    "                    dtype = [('e', bool), ('t', float)])\n",
    "    #print(et_train)\n",
    "    et_test = np.array([(e_test[i], t_test[i]) for i in range(len(e_test))],\n",
    "                    dtype = [('e', bool), ('t', float)])\n",
    "    # et_val = np.array([(e_val[i], t_val[i]) for i in range(len(e_val))],\n",
    "    #                  dtype = [('e', bool), ('t', float)])\n",
    "    # print(et_train[0:10])\n",
    "    for i, _ in enumerate(times):\n",
    "        cis.append(concordance_index_ipcw(et_train, et_test, out_risk[:, i], times[i])[0])\n",
    "    brs.append(brier_score(et_train, et_test, out_survival, times)[1])\n",
    "    roc_auc = []\n",
    "    for i, _ in enumerate(times):\n",
    "        roc_auc.append(cumulative_dynamic_auc(et_train, et_test, out_risk[:, i], times[i])[0])\n",
    "    for horizon in enumerate(horizons):\n",
    "        print(f\"For {horizon[1]} quantile\")\n",
    "        print(\"TD Concordance Index:\", cis[horizon[0]])\n",
    "        print(\"Brier Score:\", brs[0][horizon[0]])\n",
    "        print(\"ROC AUC \", roc_auc[horizon[0]][0], \"\\n\")\n",
    "    "
   ]
  },
  {
   "cell_type": "code",
   "execution_count": 18,
   "metadata": {},
   "outputs": [],
   "source": [
    "import numpy as np"
   ]
  },
  {
   "cell_type": "code",
   "execution_count": 23,
   "metadata": {},
   "outputs": [
    {
     "name": "stderr",
     "output_type": "stream",
     "text": [
      " 14%|█▍        | 14/100 [00:13<01:20,  1.07it/s]\n"
     ]
    },
    {
     "name": "stdout",
     "output_type": "stream",
     "text": [
      "For 0.25 quantile\n",
      "TD Concordance Index: 0.7559910747138908\n",
      "Brier Score: 0.1157773954978373\n",
      "ROC AUC  0.7627809958429018 \n",
      "\n",
      "For 0.5 quantile\n",
      "TD Concordance Index: 0.6944677263494192\n",
      "Brier Score: 0.1948717292185306\n",
      "ROC AUC  0.7156219972345262 \n",
      "\n",
      "For 0.75 quantile\n",
      "TD Concordance Index: 0.6549660158903023\n",
      "Brier Score: 0.23636025976841915\n",
      "ROC AUC  0.6878754467801539 \n",
      "\n",
      "For 0.9 quantile\n",
      "TD Concordance Index: 0.6434117883039532\n",
      "Brier Score: 0.18834185588483432\n",
      "ROC AUC  0.6882486352760012 \n",
      "\n"
     ]
    }
   ],
   "source": [
    "\n",
    "baseline('DCM', 'support', 1e-2)"
   ]
  },
  {
   "cell_type": "code",
   "execution_count": 24,
   "metadata": {},
   "outputs": [
    {
     "name": "stdout",
     "output_type": "stream",
     "text": [
      "Number of training data points: 3899\n",
      "Number of test data points: 1101\n"
     ]
    },
    {
     "name": "stderr",
     "output_type": "stream",
     "text": [
      "  0%|          | 0/100 [00:00<?, ?it/s]"
     ]
    },
    {
     "name": "stderr",
     "output_type": "stream",
     "text": [
      "/home/r10user10/Documents/Jiacheng/dspm-auton-survival/auton_survival/models/dcm/dcm_utilities.py:58: RuntimeWarning: invalid value encountered in power\n",
      "  return spl(ts)**risks\n",
      "/home/r10user10/Documents/Jiacheng/dspm-auton-survival/auton_survival/models/dcm/dcm_utilities.py:53: RuntimeWarning: invalid value encountered in power\n",
      "  s0ts = (-risks)*(spl(ts)**(risks-1))\n",
      "  9%|▉         | 9/100 [00:06<01:05,  1.38it/s]"
     ]
    },
    {
     "name": "stdout",
     "output_type": "stream",
     "text": [
      "For 0.25 quantile\n",
      "TD Concordance Index: 0.6750917306531483\n",
      "Brier Score: 0.15080291947248434\n",
      "ROC AUC  0.7029677810353033 \n",
      "\n",
      "For 0.5 quantile\n",
      "TD Concordance Index: 0.6783322871962039\n",
      "Brier Score: 0.20979851676343117\n",
      "ROC AUC  0.7320758415059773 \n",
      "\n",
      "For 0.75 quantile\n",
      "TD Concordance Index: 0.6803062204575463\n",
      "Brier Score: 0.15477046739848743\n",
      "ROC AUC  0.8128868303361304 \n",
      "\n",
      "For 0.9 quantile\n",
      "TD Concordance Index: 0.6752246957509107\n",
      "Brier Score: 0.09295212037556035\n",
      "ROC AUC  0.8197751184458351 \n",
      "\n"
     ]
    },
    {
     "name": "stderr",
     "output_type": "stream",
     "text": [
      "\n"
     ]
    }
   ],
   "source": [
    "baseline('DCM', 'synthetic', 1e-3)"
   ]
  },
  {
   "cell_type": "code",
   "execution_count": 25,
   "metadata": {},
   "outputs": [
    {
     "name": "stderr",
     "output_type": "stream",
     "text": [
      "  0%|          | 0/100 [00:00<?, ?it/s]/home/r10user10/Documents/Jiacheng/dspm-auton-survival/auton_survival/models/dcm/dcm_utilities.py:58: RuntimeWarning: invalid value encountered in power\n",
      "  return spl(ts)**risks\n",
      "/home/r10user10/Documents/Jiacheng/dspm-auton-survival/auton_survival/models/dcm/dcm_utilities.py:53: RuntimeWarning: invalid value encountered in power\n",
      "  s0ts = (-risks)*(spl(ts)**(risks-1))\n",
      "/home/r10user10/Documents/anaconda3/envs/python310/lib/python3.10/site-packages/scipy/interpolate/_fitpack2.py:313: UserWarning: \n",
      "The maximal number of iterations maxit (set to 20 by the program)\n",
      "allowed for finding a smoothing spline with fp=s has been reached: s\n",
      "too small.\n",
      "There is an approximation returned but the corresponding weighted sum\n",
      "of squared residuals does not satisfy the condition abs(fp-s)/s < tol.\n",
      "  warnings.warn(message)\n",
      "/home/r10user10/Documents/Jiacheng/dspm-auton-survival/auton_survival/models/dcm/dcm_utilities.py:58: RuntimeWarning: overflow encountered in power\n",
      "  return spl(ts)**risks\n",
      "/home/r10user10/Documents/Jiacheng/dspm-auton-survival/auton_survival/models/dcm/dcm_utilities.py:53: RuntimeWarning: overflow encountered in power\n",
      "  s0ts = (-risks)*(spl(ts)**(risks-1))\n",
      "WARNING:root:Couldn't fit splines, reusing from previous epoch\n"
     ]
    },
    {
     "name": "stdout",
     "output_type": "stream",
     "text": [
      "Exception!!!: probability tensor contains either `inf`, `nan` or element < 0\n"
     ]
    },
    {
     "name": "stderr",
     "output_type": "stream",
     "text": [
      "WARNING:root:Couldn't fit splines, reusing from previous epoch\n"
     ]
    },
    {
     "name": "stdout",
     "output_type": "stream",
     "text": [
      "Exception!!!: probability tensor contains either `inf`, `nan` or element < 0\n"
     ]
    },
    {
     "name": "stderr",
     "output_type": "stream",
     "text": [
      "/home/r10user10/Documents/Jiacheng/dspm-auton-survival/auton_survival/models/dcm/dcm_utilities.py:53: RuntimeWarning: overflow encountered in multiply\n",
      "  s0ts = (-risks)*(spl(ts)**(risks-1))\n",
      "WARNING:root:Couldn't fit splines, reusing from previous epoch\n"
     ]
    },
    {
     "name": "stdout",
     "output_type": "stream",
     "text": [
      "Exception!!!: probability tensor contains either `inf`, `nan` or element < 0\n"
     ]
    },
    {
     "name": "stderr",
     "output_type": "stream",
     "text": [
      "/home/r10user10/Documents/Jiacheng/dspm-auton-survival/auton_survival/models/dcm/dcm_utilities.py:54: RuntimeWarning: overflow encountered in multiply\n",
      "  return s0ts * spl.derivative()(ts)\n",
      "WARNING:root:Couldn't fit splines, reusing from previous epoch\n"
     ]
    },
    {
     "name": "stdout",
     "output_type": "stream",
     "text": [
      "Exception!!!: probability tensor contains either `inf`, `nan` or element < 0\n"
     ]
    },
    {
     "name": "stderr",
     "output_type": "stream",
     "text": [
      "WARNING:root:Couldn't fit splines, reusing from previous epoch\n"
     ]
    },
    {
     "name": "stdout",
     "output_type": "stream",
     "text": [
      "Exception!!!: probability tensor contains either `inf`, `nan` or element < 0\n"
     ]
    },
    {
     "name": "stderr",
     "output_type": "stream",
     "text": [
      "WARNING:root:Couldn't fit splines, reusing from previous epoch\n"
     ]
    },
    {
     "name": "stdout",
     "output_type": "stream",
     "text": [
      "Exception!!!: probability tensor contains either `inf`, `nan` or element < 0\n"
     ]
    },
    {
     "name": "stderr",
     "output_type": "stream",
     "text": [
      "WARNING:root:Couldn't fit splines, reusing from previous epoch\n"
     ]
    },
    {
     "name": "stdout",
     "output_type": "stream",
     "text": [
      "Exception!!!: probability tensor contains either `inf`, `nan` or element < 0\n"
     ]
    },
    {
     "name": "stderr",
     "output_type": "stream",
     "text": [
      "WARNING:root:Couldn't fit splines, reusing from previous epoch\n"
     ]
    },
    {
     "name": "stdout",
     "output_type": "stream",
     "text": [
      "Exception!!!: probability tensor contains either `inf`, `nan` or element < 0\n"
     ]
    },
    {
     "name": "stderr",
     "output_type": "stream",
     "text": [
      "WARNING:root:Couldn't fit splines, reusing from previous epoch\n"
     ]
    },
    {
     "name": "stdout",
     "output_type": "stream",
     "text": [
      "Exception!!!: probability tensor contains either `inf`, `nan` or element < 0\n"
     ]
    },
    {
     "name": "stderr",
     "output_type": "stream",
     "text": [
      "WARNING:root:Couldn't fit splines, reusing from previous epoch\n"
     ]
    },
    {
     "name": "stdout",
     "output_type": "stream",
     "text": [
      "Exception!!!: probability tensor contains either `inf`, `nan` or element < 0\n"
     ]
    },
    {
     "name": "stderr",
     "output_type": "stream",
     "text": [
      "WARNING:root:Couldn't fit splines, reusing from previous epoch\n"
     ]
    },
    {
     "name": "stdout",
     "output_type": "stream",
     "text": [
      "Exception!!!: probability tensor contains either `inf`, `nan` or element < 0\n"
     ]
    },
    {
     "name": "stderr",
     "output_type": "stream",
     "text": [
      "  2%|▏         | 2/100 [1:58:49<96:55:12, 3560.33s/it]/home/r10user10/Documents/anaconda3/envs/python310/lib/python3.10/site-packages/sksurv/linear_model/coxph.py:83: RuntimeWarning: overflow encountered in exp\n",
      "  self.baseline_survival_ = StepFunction(uniq_times, np.exp(-y))\n",
      "  3%|▎         | 3/100 [2:47:28<88:02:05, 3267.28s/it]/home/r10user10/Documents/Jiacheng/dspm-auton-survival/auton_survival/models/dcm/dcm_utilities.py:53: RuntimeWarning: divide by zero encountered in power\n",
      "  s0ts = (-risks)*(spl(ts)**(risks-1))\n",
      "WARNING:root:Couldn't fit splines, reusing from previous epoch\n"
     ]
    },
    {
     "name": "stdout",
     "output_type": "stream",
     "text": [
      "Exception!!!: probability tensor contains either `inf`, `nan` or element < 0\n"
     ]
    },
    {
     "name": "stderr",
     "output_type": "stream",
     "text": [
      "WARNING:root:Couldn't fit splines, reusing from previous epoch\n"
     ]
    },
    {
     "name": "stdout",
     "output_type": "stream",
     "text": [
      "Exception!!!: probability tensor contains either `inf`, `nan` or element < 0\n"
     ]
    },
    {
     "name": "stderr",
     "output_type": "stream",
     "text": [
      "WARNING:root:Couldn't fit splines, reusing from previous epoch\n"
     ]
    },
    {
     "name": "stdout",
     "output_type": "stream",
     "text": [
      "Exception!!!: probability tensor contains either `inf`, `nan` or element < 0\n"
     ]
    },
    {
     "name": "stderr",
     "output_type": "stream",
     "text": [
      "WARNING:root:Couldn't fit splines, reusing from previous epoch\n"
     ]
    },
    {
     "name": "stdout",
     "output_type": "stream",
     "text": [
      "Exception!!!: probability tensor contains either `inf`, `nan` or element < 0\n"
     ]
    },
    {
     "name": "stderr",
     "output_type": "stream",
     "text": [
      "WARNING:root:Couldn't fit splines, reusing from previous epoch\n"
     ]
    },
    {
     "name": "stdout",
     "output_type": "stream",
     "text": [
      "Exception!!!: probability tensor contains either `inf`, `nan` or element < 0\n"
     ]
    },
    {
     "name": "stderr",
     "output_type": "stream",
     "text": [
      "WARNING:root:Couldn't fit splines, reusing from previous epoch\n"
     ]
    },
    {
     "name": "stdout",
     "output_type": "stream",
     "text": [
      "Exception!!!: probability tensor contains either `inf`, `nan` or element < 0\n"
     ]
    },
    {
     "name": "stderr",
     "output_type": "stream",
     "text": [
      "WARNING:root:Couldn't fit splines, reusing from previous epoch\n"
     ]
    },
    {
     "name": "stdout",
     "output_type": "stream",
     "text": [
      "Exception!!!: probability tensor contains either `inf`, `nan` or element < 0\n"
     ]
    },
    {
     "name": "stderr",
     "output_type": "stream",
     "text": [
      "WARNING:root:Couldn't fit splines, reusing from previous epoch\n"
     ]
    },
    {
     "name": "stdout",
     "output_type": "stream",
     "text": [
      "Exception!!!: probability tensor contains either `inf`, `nan` or element < 0\n"
     ]
    },
    {
     "name": "stderr",
     "output_type": "stream",
     "text": [
      "WARNING:root:Couldn't fit splines, reusing from previous epoch\n"
     ]
    },
    {
     "name": "stdout",
     "output_type": "stream",
     "text": [
      "Exception!!!: probability tensor contains either `inf`, `nan` or element < 0\n"
     ]
    },
    {
     "name": "stderr",
     "output_type": "stream",
     "text": [
      "WARNING:root:Couldn't fit splines, reusing from previous epoch\n"
     ]
    },
    {
     "name": "stdout",
     "output_type": "stream",
     "text": [
      "Exception!!!: probability tensor contains either `inf`, `nan` or element < 0\n"
     ]
    },
    {
     "name": "stderr",
     "output_type": "stream",
     "text": [
      "WARNING:root:Couldn't fit splines, reusing from previous epoch\n"
     ]
    },
    {
     "name": "stdout",
     "output_type": "stream",
     "text": [
      "Exception!!!: probability tensor contains either `inf`, `nan` or element < 0\n"
     ]
    },
    {
     "name": "stderr",
     "output_type": "stream",
     "text": [
      "WARNING:root:Couldn't fit splines, reusing from previous epoch\n"
     ]
    },
    {
     "name": "stdout",
     "output_type": "stream",
     "text": [
      "Exception!!!: probability tensor contains either `inf`, `nan` or element < 0\n"
     ]
    },
    {
     "name": "stderr",
     "output_type": "stream",
     "text": [
      "WARNING:root:Couldn't fit splines, reusing from previous epoch\n"
     ]
    },
    {
     "name": "stdout",
     "output_type": "stream",
     "text": [
      "Exception!!!: probability tensor contains either `inf`, `nan` or element < 0\n"
     ]
    },
    {
     "name": "stderr",
     "output_type": "stream",
     "text": [
      "WARNING:root:Couldn't fit splines, reusing from previous epoch\n"
     ]
    },
    {
     "name": "stdout",
     "output_type": "stream",
     "text": [
      "Exception!!!: probability tensor contains either `inf`, `nan` or element < 0\n"
     ]
    },
    {
     "name": "stderr",
     "output_type": "stream",
     "text": [
      "WARNING:root:Couldn't fit splines, reusing from previous epoch\n"
     ]
    },
    {
     "name": "stdout",
     "output_type": "stream",
     "text": [
      "Exception!!!: probability tensor contains either `inf`, `nan` or element < 0\n"
     ]
    },
    {
     "name": "stderr",
     "output_type": "stream",
     "text": [
      "WARNING:root:Couldn't fit splines, reusing from previous epoch\n"
     ]
    },
    {
     "name": "stdout",
     "output_type": "stream",
     "text": [
      "Exception!!!: probability tensor contains either `inf`, `nan` or element < 0\n"
     ]
    },
    {
     "name": "stderr",
     "output_type": "stream",
     "text": [
      "WARNING:root:Couldn't fit splines, reusing from previous epoch\n"
     ]
    },
    {
     "name": "stdout",
     "output_type": "stream",
     "text": [
      "Exception!!!: probability tensor contains either `inf`, `nan` or element < 0\n"
     ]
    },
    {
     "name": "stderr",
     "output_type": "stream",
     "text": [
      "WARNING:root:Couldn't fit splines, reusing from previous epoch\n"
     ]
    },
    {
     "name": "stdout",
     "output_type": "stream",
     "text": [
      "Exception!!!: probability tensor contains either `inf`, `nan` or element < 0\n"
     ]
    },
    {
     "name": "stderr",
     "output_type": "stream",
     "text": [
      "WARNING:root:Couldn't fit splines, reusing from previous epoch\n"
     ]
    },
    {
     "name": "stdout",
     "output_type": "stream",
     "text": [
      "Exception!!!: probability tensor contains either `inf`, `nan` or element < 0\n"
     ]
    },
    {
     "name": "stderr",
     "output_type": "stream",
     "text": [
      "WARNING:root:Couldn't fit splines, reusing from previous epoch\n"
     ]
    },
    {
     "name": "stdout",
     "output_type": "stream",
     "text": [
      "Exception!!!: probability tensor contains either `inf`, `nan` or element < 0\n"
     ]
    },
    {
     "name": "stderr",
     "output_type": "stream",
     "text": [
      "WARNING:root:Couldn't fit splines, reusing from previous epoch\n"
     ]
    },
    {
     "name": "stdout",
     "output_type": "stream",
     "text": [
      "Exception!!!: probability tensor contains either `inf`, `nan` or element < 0\n"
     ]
    },
    {
     "name": "stderr",
     "output_type": "stream",
     "text": [
      "WARNING:root:Couldn't fit splines, reusing from previous epoch\n"
     ]
    },
    {
     "name": "stdout",
     "output_type": "stream",
     "text": [
      "Exception!!!: probability tensor contains either `inf`, `nan` or element < 0\n"
     ]
    },
    {
     "name": "stderr",
     "output_type": "stream",
     "text": [
      "WARNING:root:Couldn't fit splines, reusing from previous epoch\n"
     ]
    },
    {
     "name": "stdout",
     "output_type": "stream",
     "text": [
      "Exception!!!: probability tensor contains either `inf`, `nan` or element < 0\n"
     ]
    },
    {
     "name": "stderr",
     "output_type": "stream",
     "text": [
      "WARNING:root:Couldn't fit splines, reusing from previous epoch\n"
     ]
    },
    {
     "name": "stdout",
     "output_type": "stream",
     "text": [
      "Exception!!!: probability tensor contains either `inf`, `nan` or element < 0\n"
     ]
    },
    {
     "name": "stderr",
     "output_type": "stream",
     "text": [
      "WARNING:root:Couldn't fit splines, reusing from previous epoch\n"
     ]
    },
    {
     "name": "stdout",
     "output_type": "stream",
     "text": [
      "Exception!!!: probability tensor contains either `inf`, `nan` or element < 0\n"
     ]
    },
    {
     "name": "stderr",
     "output_type": "stream",
     "text": [
      "WARNING:root:Couldn't fit splines, reusing from previous epoch\n"
     ]
    },
    {
     "name": "stdout",
     "output_type": "stream",
     "text": [
      "Exception!!!: probability tensor contains either `inf`, `nan` or element < 0\n"
     ]
    },
    {
     "name": "stderr",
     "output_type": "stream",
     "text": [
      "WARNING:root:Couldn't fit splines, reusing from previous epoch\n"
     ]
    },
    {
     "name": "stdout",
     "output_type": "stream",
     "text": [
      "Exception!!!: probability tensor contains either `inf`, `nan` or element < 0\n"
     ]
    },
    {
     "name": "stderr",
     "output_type": "stream",
     "text": [
      "WARNING:root:Couldn't fit splines, reusing from previous epoch\n"
     ]
    },
    {
     "name": "stdout",
     "output_type": "stream",
     "text": [
      "Exception!!!: probability tensor contains either `inf`, `nan` or element < 0\n"
     ]
    },
    {
     "name": "stderr",
     "output_type": "stream",
     "text": [
      "WARNING:root:Couldn't fit splines, reusing from previous epoch\n"
     ]
    },
    {
     "name": "stdout",
     "output_type": "stream",
     "text": [
      "Exception!!!: probability tensor contains either `inf`, `nan` or element < 0\n"
     ]
    },
    {
     "name": "stderr",
     "output_type": "stream",
     "text": [
      "WARNING:root:Couldn't fit splines, reusing from previous epoch\n"
     ]
    },
    {
     "name": "stdout",
     "output_type": "stream",
     "text": [
      "Exception!!!: probability tensor contains either `inf`, `nan` or element < 0\n"
     ]
    },
    {
     "name": "stderr",
     "output_type": "stream",
     "text": [
      "WARNING:root:Couldn't fit splines, reusing from previous epoch\n"
     ]
    },
    {
     "name": "stdout",
     "output_type": "stream",
     "text": [
      "Exception!!!: probability tensor contains either `inf`, `nan` or element < 0\n"
     ]
    },
    {
     "name": "stderr",
     "output_type": "stream",
     "text": [
      "WARNING:root:Couldn't fit splines, reusing from previous epoch\n"
     ]
    },
    {
     "name": "stdout",
     "output_type": "stream",
     "text": [
      "Exception!!!: probability tensor contains either `inf`, `nan` or element < 0\n"
     ]
    },
    {
     "name": "stderr",
     "output_type": "stream",
     "text": [
      "WARNING:root:Couldn't fit splines, reusing from previous epoch\n"
     ]
    },
    {
     "name": "stdout",
     "output_type": "stream",
     "text": [
      "Exception!!!: probability tensor contains either `inf`, `nan` or element < 0\n"
     ]
    },
    {
     "name": "stderr",
     "output_type": "stream",
     "text": [
      "WARNING:root:Couldn't fit splines, reusing from previous epoch\n"
     ]
    },
    {
     "name": "stdout",
     "output_type": "stream",
     "text": [
      "Exception!!!: probability tensor contains either `inf`, `nan` or element < 0\n"
     ]
    },
    {
     "name": "stderr",
     "output_type": "stream",
     "text": [
      "WARNING:root:Couldn't fit splines, reusing from previous epoch\n"
     ]
    },
    {
     "name": "stdout",
     "output_type": "stream",
     "text": [
      "Exception!!!: probability tensor contains either `inf`, `nan` or element < 0\n"
     ]
    },
    {
     "name": "stderr",
     "output_type": "stream",
     "text": [
      "WARNING:root:Couldn't fit splines, reusing from previous epoch\n"
     ]
    },
    {
     "name": "stdout",
     "output_type": "stream",
     "text": [
      "Exception!!!: probability tensor contains either `inf`, `nan` or element < 0\n"
     ]
    },
    {
     "name": "stderr",
     "output_type": "stream",
     "text": [
      "WARNING:root:Couldn't fit splines, reusing from previous epoch\n"
     ]
    },
    {
     "name": "stdout",
     "output_type": "stream",
     "text": [
      "Exception!!!: probability tensor contains either `inf`, `nan` or element < 0\n"
     ]
    },
    {
     "name": "stderr",
     "output_type": "stream",
     "text": [
      "WARNING:root:Couldn't fit splines, reusing from previous epoch\n"
     ]
    },
    {
     "name": "stdout",
     "output_type": "stream",
     "text": [
      "Exception!!!: probability tensor contains either `inf`, `nan` or element < 0\n"
     ]
    },
    {
     "name": "stderr",
     "output_type": "stream",
     "text": [
      "WARNING:root:Couldn't fit splines, reusing from previous epoch\n"
     ]
    },
    {
     "name": "stdout",
     "output_type": "stream",
     "text": [
      "Exception!!!: probability tensor contains either `inf`, `nan` or element < 0\n"
     ]
    },
    {
     "name": "stderr",
     "output_type": "stream",
     "text": [
      "WARNING:root:Couldn't fit splines, reusing from previous epoch\n"
     ]
    },
    {
     "name": "stdout",
     "output_type": "stream",
     "text": [
      "Exception!!!: probability tensor contains either `inf`, `nan` or element < 0\n"
     ]
    },
    {
     "name": "stderr",
     "output_type": "stream",
     "text": [
      "WARNING:root:Couldn't fit splines, reusing from previous epoch\n"
     ]
    },
    {
     "name": "stdout",
     "output_type": "stream",
     "text": [
      "Exception!!!: probability tensor contains either `inf`, `nan` or element < 0\n"
     ]
    },
    {
     "name": "stderr",
     "output_type": "stream",
     "text": [
      "WARNING:root:Couldn't fit splines, reusing from previous epoch\n"
     ]
    },
    {
     "name": "stdout",
     "output_type": "stream",
     "text": [
      "Exception!!!: probability tensor contains either `inf`, `nan` or element < 0\n"
     ]
    },
    {
     "name": "stderr",
     "output_type": "stream",
     "text": [
      "WARNING:root:Couldn't fit splines, reusing from previous epoch\n"
     ]
    },
    {
     "name": "stdout",
     "output_type": "stream",
     "text": [
      "Exception!!!: probability tensor contains either `inf`, `nan` or element < 0\n"
     ]
    },
    {
     "name": "stderr",
     "output_type": "stream",
     "text": [
      "WARNING:root:Couldn't fit splines, reusing from previous epoch\n"
     ]
    },
    {
     "name": "stdout",
     "output_type": "stream",
     "text": [
      "Exception!!!: probability tensor contains either `inf`, `nan` or element < 0\n"
     ]
    },
    {
     "name": "stderr",
     "output_type": "stream",
     "text": [
      "WARNING:root:Couldn't fit splines, reusing from previous epoch\n"
     ]
    },
    {
     "name": "stdout",
     "output_type": "stream",
     "text": [
      "Exception!!!: probability tensor contains either `inf`, `nan` or element < 0\n"
     ]
    },
    {
     "name": "stderr",
     "output_type": "stream",
     "text": [
      "WARNING:root:Couldn't fit splines, reusing from previous epoch\n"
     ]
    },
    {
     "name": "stdout",
     "output_type": "stream",
     "text": [
      "Exception!!!: probability tensor contains either `inf`, `nan` or element < 0\n"
     ]
    },
    {
     "name": "stderr",
     "output_type": "stream",
     "text": [
      "WARNING:root:Couldn't fit splines, reusing from previous epoch\n"
     ]
    },
    {
     "name": "stdout",
     "output_type": "stream",
     "text": [
      "Exception!!!: probability tensor contains either `inf`, `nan` or element < 0\n"
     ]
    },
    {
     "name": "stderr",
     "output_type": "stream",
     "text": [
      "WARNING:root:Couldn't fit splines, reusing from previous epoch\n"
     ]
    },
    {
     "name": "stdout",
     "output_type": "stream",
     "text": [
      "Exception!!!: probability tensor contains either `inf`, `nan` or element < 0\n"
     ]
    },
    {
     "name": "stderr",
     "output_type": "stream",
     "text": [
      "WARNING:root:Couldn't fit splines, reusing from previous epoch\n"
     ]
    },
    {
     "name": "stdout",
     "output_type": "stream",
     "text": [
      "Exception!!!: probability tensor contains either `inf`, `nan` or element < 0\n"
     ]
    },
    {
     "name": "stderr",
     "output_type": "stream",
     "text": [
      "WARNING:root:Couldn't fit splines, reusing from previous epoch\n"
     ]
    },
    {
     "name": "stdout",
     "output_type": "stream",
     "text": [
      "Exception!!!: probability tensor contains either `inf`, `nan` or element < 0\n"
     ]
    },
    {
     "name": "stderr",
     "output_type": "stream",
     "text": [
      "WARNING:root:Couldn't fit splines, reusing from previous epoch\n"
     ]
    },
    {
     "name": "stdout",
     "output_type": "stream",
     "text": [
      "Exception!!!: probability tensor contains either `inf`, `nan` or element < 0\n"
     ]
    },
    {
     "name": "stderr",
     "output_type": "stream",
     "text": [
      "WARNING:root:Couldn't fit splines, reusing from previous epoch\n"
     ]
    },
    {
     "name": "stdout",
     "output_type": "stream",
     "text": [
      "Exception!!!: probability tensor contains either `inf`, `nan` or element < 0\n"
     ]
    },
    {
     "name": "stderr",
     "output_type": "stream",
     "text": [
      "WARNING:root:Couldn't fit splines, reusing from previous epoch\n"
     ]
    },
    {
     "name": "stdout",
     "output_type": "stream",
     "text": [
      "Exception!!!: probability tensor contains either `inf`, `nan` or element < 0\n"
     ]
    },
    {
     "name": "stderr",
     "output_type": "stream",
     "text": [
      "WARNING:root:Couldn't fit splines, reusing from previous epoch\n"
     ]
    },
    {
     "name": "stdout",
     "output_type": "stream",
     "text": [
      "Exception!!!: probability tensor contains either `inf`, `nan` or element < 0\n"
     ]
    },
    {
     "name": "stderr",
     "output_type": "stream",
     "text": [
      "WARNING:root:Couldn't fit splines, reusing from previous epoch\n"
     ]
    },
    {
     "name": "stdout",
     "output_type": "stream",
     "text": [
      "Exception!!!: probability tensor contains either `inf`, `nan` or element < 0\n"
     ]
    },
    {
     "name": "stderr",
     "output_type": "stream",
     "text": [
      "WARNING:root:Couldn't fit splines, reusing from previous epoch\n"
     ]
    },
    {
     "name": "stdout",
     "output_type": "stream",
     "text": [
      "Exception!!!: probability tensor contains either `inf`, `nan` or element < 0\n"
     ]
    },
    {
     "name": "stderr",
     "output_type": "stream",
     "text": [
      "WARNING:root:Couldn't fit splines, reusing from previous epoch\n"
     ]
    },
    {
     "name": "stdout",
     "output_type": "stream",
     "text": [
      "Exception!!!: probability tensor contains either `inf`, `nan` or element < 0\n"
     ]
    },
    {
     "name": "stderr",
     "output_type": "stream",
     "text": [
      "WARNING:root:Couldn't fit splines, reusing from previous epoch\n"
     ]
    },
    {
     "name": "stdout",
     "output_type": "stream",
     "text": [
      "Exception!!!: probability tensor contains either `inf`, `nan` or element < 0\n"
     ]
    },
    {
     "name": "stderr",
     "output_type": "stream",
     "text": [
      "WARNING:root:Couldn't fit splines, reusing from previous epoch\n"
     ]
    },
    {
     "name": "stdout",
     "output_type": "stream",
     "text": [
      "Exception!!!: probability tensor contains either `inf`, `nan` or element < 0\n"
     ]
    },
    {
     "name": "stderr",
     "output_type": "stream",
     "text": [
      "WARNING:root:Couldn't fit splines, reusing from previous epoch\n"
     ]
    },
    {
     "name": "stdout",
     "output_type": "stream",
     "text": [
      "Exception!!!: probability tensor contains either `inf`, `nan` or element < 0\n"
     ]
    },
    {
     "name": "stderr",
     "output_type": "stream",
     "text": [
      "WARNING:root:Couldn't fit splines, reusing from previous epoch\n"
     ]
    },
    {
     "name": "stdout",
     "output_type": "stream",
     "text": [
      "Exception!!!: probability tensor contains either `inf`, `nan` or element < 0\n"
     ]
    },
    {
     "name": "stderr",
     "output_type": "stream",
     "text": [
      "WARNING:root:Couldn't fit splines, reusing from previous epoch\n"
     ]
    },
    {
     "name": "stdout",
     "output_type": "stream",
     "text": [
      "Exception!!!: probability tensor contains either `inf`, `nan` or element < 0\n"
     ]
    },
    {
     "name": "stderr",
     "output_type": "stream",
     "text": [
      "WARNING:root:Couldn't fit splines, reusing from previous epoch\n"
     ]
    },
    {
     "name": "stdout",
     "output_type": "stream",
     "text": [
      "Exception!!!: probability tensor contains either `inf`, `nan` or element < 0\n"
     ]
    },
    {
     "name": "stderr",
     "output_type": "stream",
     "text": [
      "WARNING:root:Couldn't fit splines, reusing from previous epoch\n"
     ]
    },
    {
     "name": "stdout",
     "output_type": "stream",
     "text": [
      "Exception!!!: probability tensor contains either `inf`, `nan` or element < 0\n"
     ]
    },
    {
     "name": "stderr",
     "output_type": "stream",
     "text": [
      "WARNING:root:Couldn't fit splines, reusing from previous epoch\n"
     ]
    },
    {
     "name": "stdout",
     "output_type": "stream",
     "text": [
      "Exception!!!: probability tensor contains either `inf`, `nan` or element < 0\n"
     ]
    },
    {
     "name": "stderr",
     "output_type": "stream",
     "text": [
      "WARNING:root:Couldn't fit splines, reusing from previous epoch\n"
     ]
    },
    {
     "name": "stdout",
     "output_type": "stream",
     "text": [
      "Exception!!!: probability tensor contains either `inf`, `nan` or element < 0\n"
     ]
    },
    {
     "name": "stderr",
     "output_type": "stream",
     "text": [
      "WARNING:root:Couldn't fit splines, reusing from previous epoch\n"
     ]
    },
    {
     "name": "stdout",
     "output_type": "stream",
     "text": [
      "Exception!!!: probability tensor contains either `inf`, `nan` or element < 0\n"
     ]
    },
    {
     "name": "stderr",
     "output_type": "stream",
     "text": [
      "WARNING:root:Couldn't fit splines, reusing from previous epoch\n"
     ]
    },
    {
     "name": "stdout",
     "output_type": "stream",
     "text": [
      "Exception!!!: probability tensor contains either `inf`, `nan` or element < 0\n"
     ]
    },
    {
     "name": "stderr",
     "output_type": "stream",
     "text": [
      "WARNING:root:Couldn't fit splines, reusing from previous epoch\n"
     ]
    },
    {
     "name": "stdout",
     "output_type": "stream",
     "text": [
      "Exception!!!: probability tensor contains either `inf`, `nan` or element < 0\n"
     ]
    },
    {
     "name": "stderr",
     "output_type": "stream",
     "text": [
      "WARNING:root:Couldn't fit splines, reusing from previous epoch\n"
     ]
    },
    {
     "name": "stdout",
     "output_type": "stream",
     "text": [
      "Exception!!!: probability tensor contains either `inf`, `nan` or element < 0\n"
     ]
    },
    {
     "name": "stderr",
     "output_type": "stream",
     "text": [
      "WARNING:root:Couldn't fit splines, reusing from previous epoch\n"
     ]
    },
    {
     "name": "stdout",
     "output_type": "stream",
     "text": [
      "Exception!!!: probability tensor contains either `inf`, `nan` or element < 0\n"
     ]
    },
    {
     "name": "stderr",
     "output_type": "stream",
     "text": [
      "WARNING:root:Couldn't fit splines, reusing from previous epoch\n"
     ]
    },
    {
     "name": "stdout",
     "output_type": "stream",
     "text": [
      "Exception!!!: probability tensor contains either `inf`, `nan` or element < 0\n"
     ]
    },
    {
     "name": "stderr",
     "output_type": "stream",
     "text": [
      "WARNING:root:Couldn't fit splines, reusing from previous epoch\n"
     ]
    },
    {
     "name": "stdout",
     "output_type": "stream",
     "text": [
      "Exception!!!: probability tensor contains either `inf`, `nan` or element < 0\n"
     ]
    },
    {
     "name": "stderr",
     "output_type": "stream",
     "text": [
      "WARNING:root:Couldn't fit splines, reusing from previous epoch\n"
     ]
    },
    {
     "name": "stdout",
     "output_type": "stream",
     "text": [
      "Exception!!!: probability tensor contains either `inf`, `nan` or element < 0\n"
     ]
    },
    {
     "name": "stderr",
     "output_type": "stream",
     "text": [
      "WARNING:root:Couldn't fit splines, reusing from previous epoch\n"
     ]
    },
    {
     "name": "stdout",
     "output_type": "stream",
     "text": [
      "Exception!!!: probability tensor contains either `inf`, `nan` or element < 0\n"
     ]
    },
    {
     "name": "stderr",
     "output_type": "stream",
     "text": [
      "WARNING:root:Couldn't fit splines, reusing from previous epoch\n"
     ]
    },
    {
     "name": "stdout",
     "output_type": "stream",
     "text": [
      "Exception!!!: probability tensor contains either `inf`, `nan` or element < 0\n"
     ]
    },
    {
     "name": "stderr",
     "output_type": "stream",
     "text": [
      "WARNING:root:Couldn't fit splines, reusing from previous epoch\n"
     ]
    },
    {
     "name": "stdout",
     "output_type": "stream",
     "text": [
      "Exception!!!: probability tensor contains either `inf`, `nan` or element < 0\n"
     ]
    },
    {
     "name": "stderr",
     "output_type": "stream",
     "text": [
      "WARNING:root:Couldn't fit splines, reusing from previous epoch\n"
     ]
    },
    {
     "name": "stdout",
     "output_type": "stream",
     "text": [
      "Exception!!!: probability tensor contains either `inf`, `nan` or element < 0\n"
     ]
    },
    {
     "name": "stderr",
     "output_type": "stream",
     "text": [
      "WARNING:root:Couldn't fit splines, reusing from previous epoch\n"
     ]
    },
    {
     "name": "stdout",
     "output_type": "stream",
     "text": [
      "Exception!!!: probability tensor contains either `inf`, `nan` or element < 0\n"
     ]
    },
    {
     "name": "stderr",
     "output_type": "stream",
     "text": [
      "WARNING:root:Couldn't fit splines, reusing from previous epoch\n"
     ]
    },
    {
     "name": "stdout",
     "output_type": "stream",
     "text": [
      "Exception!!!: probability tensor contains either `inf`, `nan` or element < 0\n"
     ]
    },
    {
     "name": "stderr",
     "output_type": "stream",
     "text": [
      "WARNING:root:Couldn't fit splines, reusing from previous epoch\n"
     ]
    },
    {
     "name": "stdout",
     "output_type": "stream",
     "text": [
      "Exception!!!: probability tensor contains either `inf`, `nan` or element < 0\n"
     ]
    },
    {
     "name": "stderr",
     "output_type": "stream",
     "text": [
      "WARNING:root:Couldn't fit splines, reusing from previous epoch\n"
     ]
    },
    {
     "name": "stdout",
     "output_type": "stream",
     "text": [
      "Exception!!!: probability tensor contains either `inf`, `nan` or element < 0\n"
     ]
    },
    {
     "name": "stderr",
     "output_type": "stream",
     "text": [
      "WARNING:root:Couldn't fit splines, reusing from previous epoch\n"
     ]
    },
    {
     "name": "stdout",
     "output_type": "stream",
     "text": [
      "Exception!!!: probability tensor contains either `inf`, `nan` or element < 0\n"
     ]
    },
    {
     "name": "stderr",
     "output_type": "stream",
     "text": [
      "WARNING:root:Couldn't fit splines, reusing from previous epoch\n"
     ]
    },
    {
     "name": "stdout",
     "output_type": "stream",
     "text": [
      "Exception!!!: probability tensor contains either `inf`, `nan` or element < 0\n"
     ]
    },
    {
     "name": "stderr",
     "output_type": "stream",
     "text": [
      "WARNING:root:Couldn't fit splines, reusing from previous epoch\n"
     ]
    },
    {
     "name": "stdout",
     "output_type": "stream",
     "text": [
      "Exception!!!: probability tensor contains either `inf`, `nan` or element < 0\n"
     ]
    },
    {
     "name": "stderr",
     "output_type": "stream",
     "text": [
      "WARNING:root:Couldn't fit splines, reusing from previous epoch\n"
     ]
    },
    {
     "name": "stdout",
     "output_type": "stream",
     "text": [
      "Exception!!!: probability tensor contains either `inf`, `nan` or element < 0\n"
     ]
    },
    {
     "name": "stderr",
     "output_type": "stream",
     "text": [
      "WARNING:root:Couldn't fit splines, reusing from previous epoch\n"
     ]
    },
    {
     "name": "stdout",
     "output_type": "stream",
     "text": [
      "Exception!!!: probability tensor contains either `inf`, `nan` or element < 0\n"
     ]
    },
    {
     "name": "stderr",
     "output_type": "stream",
     "text": [
      "WARNING:root:Couldn't fit splines, reusing from previous epoch\n"
     ]
    },
    {
     "name": "stdout",
     "output_type": "stream",
     "text": [
      "Exception!!!: probability tensor contains either `inf`, `nan` or element < 0\n"
     ]
    },
    {
     "name": "stderr",
     "output_type": "stream",
     "text": [
      "WARNING:root:Couldn't fit splines, reusing from previous epoch\n"
     ]
    },
    {
     "name": "stdout",
     "output_type": "stream",
     "text": [
      "Exception!!!: probability tensor contains either `inf`, `nan` or element < 0\n"
     ]
    },
    {
     "name": "stderr",
     "output_type": "stream",
     "text": [
      "WARNING:root:Couldn't fit splines, reusing from previous epoch\n",
      "  3%|▎         | 3/100 [3:31:59<114:14:32, 4239.92s/it]"
     ]
    },
    {
     "name": "stdout",
     "output_type": "stream",
     "text": [
      "Exception!!!: probability tensor contains either `inf`, `nan` or element < 0\n"
     ]
    },
    {
     "name": "stderr",
     "output_type": "stream",
     "text": [
      "\n"
     ]
    },
    {
     "ename": "RuntimeError",
     "evalue": "probability tensor contains either `inf`, `nan` or element < 0",
     "output_type": "error",
     "traceback": [
      "\u001b[0;31m---------------------------------------------------------------------------\u001b[0m",
      "\u001b[0;31mRuntimeError\u001b[0m                              Traceback (most recent call last)",
      "Cell \u001b[0;32mIn[25], line 1\u001b[0m\n\u001b[0;32m----> 1\u001b[0m \u001b[43mbaseline\u001b[49m\u001b[43m(\u001b[49m\u001b[38;5;124;43m'\u001b[39;49m\u001b[38;5;124;43mDCM\u001b[39;49m\u001b[38;5;124;43m'\u001b[39;49m\u001b[43m,\u001b[49m\u001b[43m \u001b[49m\u001b[38;5;124;43m'\u001b[39;49m\u001b[38;5;124;43mkkbox\u001b[39;49m\u001b[38;5;124;43m'\u001b[39;49m\u001b[43m,\u001b[49m\u001b[43m \u001b[49m\u001b[38;5;241;43m1e-2\u001b[39;49m\u001b[43m)\u001b[49m\n",
      "Cell \u001b[0;32mIn[17], line 23\u001b[0m, in \u001b[0;36mbaseline\u001b[0;34m(baseline, dataset, lr)\u001b[0m\n\u001b[1;32m     20\u001b[0m \u001b[38;5;28;01mif\u001b[39;00m dataset \u001b[38;5;241m==\u001b[39m \u001b[38;5;124m'\u001b[39m\u001b[38;5;124mmimic\u001b[39m\u001b[38;5;124m'\u001b[39m:\n\u001b[1;32m     21\u001b[0m     x_train, t_train , e_train, x_test, t_test , e_test \u001b[38;5;241m=\u001b[39m mimic()   \n\u001b[0;32m---> 23\u001b[0m \u001b[43mmodel\u001b[49m\u001b[38;5;241;43m.\u001b[39;49m\u001b[43mfit\u001b[49m\u001b[43m(\u001b[49m\u001b[43mx_train\u001b[49m\u001b[43m,\u001b[49m\u001b[43m \u001b[49m\u001b[43mt_train\u001b[49m\u001b[43m,\u001b[49m\u001b[43m \u001b[49m\u001b[43me_train\u001b[49m\u001b[43m,\u001b[49m\u001b[43m \u001b[49m\u001b[43miters\u001b[49m\u001b[43m \u001b[49m\u001b[38;5;241;43m=\u001b[39;49m\u001b[43m \u001b[49m\u001b[38;5;241;43m100\u001b[39;49m\u001b[43m,\u001b[49m\u001b[43m \u001b[49m\u001b[43mlearning_rate\u001b[49m\u001b[43m \u001b[49m\u001b[38;5;241;43m=\u001b[39;49m\u001b[43m \u001b[49m\u001b[43mlr\u001b[49m\u001b[43m)\u001b[49m\n\u001b[1;32m     24\u001b[0m horizons \u001b[38;5;241m=\u001b[39m [\u001b[38;5;241m0.25\u001b[39m, \u001b[38;5;241m0.5\u001b[39m, \u001b[38;5;241m0.75\u001b[39m, \u001b[38;5;241m0.9\u001b[39m]\n\u001b[1;32m     25\u001b[0m x \u001b[38;5;241m=\u001b[39m np\u001b[38;5;241m.\u001b[39mconcatenate((x_train, x_test), axis\u001b[38;5;241m=\u001b[39m\u001b[38;5;241m0\u001b[39m)\n",
      "File \u001b[0;32m~/Documents/Jiacheng/dspm-auton-survival/auton_survival/models/dcm/__init__.py:214\u001b[0m, in \u001b[0;36mDeepCoxMixtures.fit\u001b[0;34m(self, x, t, e, vsize, val_data, iters, learning_rate, batch_size, optimizer)\u001b[0m\n\u001b[1;32m    210\u001b[0m inputdim \u001b[38;5;241m=\u001b[39m x_train\u001b[38;5;241m.\u001b[39mshape[\u001b[38;5;241m-\u001b[39m\u001b[38;5;241m1\u001b[39m]\n\u001b[1;32m    212\u001b[0m model \u001b[38;5;241m=\u001b[39m \u001b[38;5;28mself\u001b[39m\u001b[38;5;241m.\u001b[39m_gen_torch_model(inputdim, optimizer)\n\u001b[0;32m--> 214\u001b[0m model, _ \u001b[38;5;241m=\u001b[39m \u001b[43mtrain_dcm\u001b[49m\u001b[43m(\u001b[49m\u001b[43mmodel\u001b[49m\u001b[43m,\u001b[49m\n\u001b[1;32m    215\u001b[0m \u001b[43m                     \u001b[49m\u001b[43m(\u001b[49m\u001b[43mx_train\u001b[49m\u001b[43m,\u001b[49m\u001b[43m \u001b[49m\u001b[43mt_train\u001b[49m\u001b[43m,\u001b[49m\u001b[43m \u001b[49m\u001b[43me_train\u001b[49m\u001b[43m)\u001b[49m\u001b[43m,\u001b[49m\n\u001b[1;32m    216\u001b[0m \u001b[43m                     \u001b[49m\u001b[43m(\u001b[49m\u001b[43mx_val\u001b[49m\u001b[43m,\u001b[49m\u001b[43m \u001b[49m\u001b[43mt_val\u001b[49m\u001b[43m,\u001b[49m\u001b[43m \u001b[49m\u001b[43me_val\u001b[49m\u001b[43m)\u001b[49m\u001b[43m,\u001b[49m\n\u001b[1;32m    217\u001b[0m \u001b[43m                     \u001b[49m\u001b[43mepochs\u001b[49m\u001b[38;5;241;43m=\u001b[39;49m\u001b[43miters\u001b[49m\u001b[43m,\u001b[49m\n\u001b[1;32m    218\u001b[0m \u001b[43m                     \u001b[49m\u001b[43mlr\u001b[49m\u001b[38;5;241;43m=\u001b[39;49m\u001b[43mlearning_rate\u001b[49m\u001b[43m,\u001b[49m\n\u001b[1;32m    219\u001b[0m \u001b[43m                     \u001b[49m\u001b[43mbs\u001b[49m\u001b[38;5;241;43m=\u001b[39;49m\u001b[43mbatch_size\u001b[49m\u001b[43m,\u001b[49m\n\u001b[1;32m    220\u001b[0m \u001b[43m                     \u001b[49m\u001b[43mreturn_losses\u001b[49m\u001b[38;5;241;43m=\u001b[39;49m\u001b[38;5;28;43;01mTrue\u001b[39;49;00m\u001b[43m,\u001b[49m\n\u001b[1;32m    221\u001b[0m \u001b[43m                     \u001b[49m\u001b[43msmoothing_factor\u001b[49m\u001b[38;5;241;43m=\u001b[39;49m\u001b[38;5;28;43mself\u001b[39;49m\u001b[38;5;241;43m.\u001b[39;49m\u001b[43msmoothing_factor\u001b[49m\u001b[43m,\u001b[49m\n\u001b[1;32m    222\u001b[0m \u001b[43m                     \u001b[49m\u001b[43muse_posteriors\u001b[49m\u001b[38;5;241;43m=\u001b[39;49m\u001b[38;5;28;43;01mTrue\u001b[39;49;00m\u001b[43m,\u001b[49m\n\u001b[1;32m    223\u001b[0m \u001b[43m                     \u001b[49m\u001b[43mrandom_seed\u001b[49m\u001b[38;5;241;43m=\u001b[39;49m\u001b[38;5;28;43mself\u001b[39;49m\u001b[38;5;241;43m.\u001b[39;49m\u001b[43mrandom_seed\u001b[49m\u001b[43m)\u001b[49m\n\u001b[1;32m    225\u001b[0m \u001b[38;5;28mself\u001b[39m\u001b[38;5;241m.\u001b[39mtorch_model \u001b[38;5;241m=\u001b[39m (model[\u001b[38;5;241m0\u001b[39m]\u001b[38;5;241m.\u001b[39meval(), model[\u001b[38;5;241m1\u001b[39m])\n\u001b[1;32m    226\u001b[0m \u001b[38;5;28mself\u001b[39m\u001b[38;5;241m.\u001b[39mfitted \u001b[38;5;241m=\u001b[39m \u001b[38;5;28;01mTrue\u001b[39;00m\n",
      "File \u001b[0;32m~/Documents/Jiacheng/dspm-auton-survival/auton_survival/models/dcm/dcm_utilities.py:273\u001b[0m, in \u001b[0;36mtrain_dcm\u001b[0;34m(model, train_data, val_data, epochs, patience, vloss, bs, typ, lr, use_posteriors, debug, random_seed, return_losses, update_splines_after, smoothing_factor)\u001b[0m\n\u001b[1;32m    268\u001b[0m losses \u001b[38;5;241m=\u001b[39m []\n\u001b[1;32m    270\u001b[0m \u001b[38;5;28;01mfor\u001b[39;00m epoch \u001b[38;5;129;01min\u001b[39;00m tqdm(\u001b[38;5;28mrange\u001b[39m(epochs)):\n\u001b[1;32m    271\u001b[0m \n\u001b[1;32m    272\u001b[0m   \u001b[38;5;66;03m# train_step_start = time.time()\u001b[39;00m\n\u001b[0;32m--> 273\u001b[0m   breslow_splines \u001b[38;5;241m=\u001b[39m \u001b[43mtrain_step\u001b[49m\u001b[43m(\u001b[49m\u001b[43mmodel\u001b[49m\u001b[43m,\u001b[49m\u001b[43m \u001b[49m\u001b[43mxt\u001b[49m\u001b[43m,\u001b[49m\u001b[43m \u001b[49m\u001b[43mtt\u001b[49m\u001b[43m,\u001b[49m\u001b[43m \u001b[49m\u001b[43met\u001b[49m\u001b[43m,\u001b[49m\u001b[43m \u001b[49m\u001b[43mbreslow_splines\u001b[49m\u001b[43m,\u001b[49m\n\u001b[1;32m    274\u001b[0m \u001b[43m                               \u001b[49m\u001b[43moptimizer\u001b[49m\u001b[43m,\u001b[49m\u001b[43m \u001b[49m\u001b[43mbs\u001b[49m\u001b[38;5;241;43m=\u001b[39;49m\u001b[43mbs\u001b[49m\u001b[43m,\u001b[49m\u001b[43m \u001b[49m\u001b[43mseed\u001b[49m\u001b[38;5;241;43m=\u001b[39;49m\u001b[43mepoch\u001b[49m\u001b[43m,\u001b[49m\u001b[43m \u001b[49m\u001b[43mtyp\u001b[49m\u001b[38;5;241;43m=\u001b[39;49m\u001b[43mtyp\u001b[49m\u001b[43m,\u001b[49m\n\u001b[1;32m    275\u001b[0m \u001b[43m                               \u001b[49m\u001b[43muse_posteriors\u001b[49m\u001b[38;5;241;43m=\u001b[39;49m\u001b[43muse_posteriors\u001b[49m\u001b[43m,\u001b[49m\n\u001b[1;32m    276\u001b[0m \u001b[43m                               \u001b[49m\u001b[43mupdate_splines_after\u001b[49m\u001b[38;5;241;43m=\u001b[39;49m\u001b[43mupdate_splines_after\u001b[49m\u001b[43m,\u001b[49m\n\u001b[1;32m    277\u001b[0m \u001b[43m                               \u001b[49m\u001b[43msmoothing_factor\u001b[49m\u001b[38;5;241;43m=\u001b[39;49m\u001b[43msmoothing_factor\u001b[49m\u001b[43m)\u001b[49m\n\u001b[1;32m    278\u001b[0m   \u001b[38;5;66;03m# print(f'Duration of train-step: {time.time() - train_step_start}')\u001b[39;00m\n\u001b[1;32m    279\u001b[0m   \u001b[38;5;66;03m# test_step_start = time.time()\u001b[39;00m\n\u001b[1;32m    280\u001b[0m   valcn \u001b[38;5;241m=\u001b[39m test_step(model, xv, tv, ev, breslow_splines, loss\u001b[38;5;241m=\u001b[39mvloss, typ\u001b[38;5;241m=\u001b[39mtyp)\n",
      "File \u001b[0;32m~/Documents/Jiacheng/dspm-auton-survival/auton_survival/models/dcm/dcm_utilities.py:209\u001b[0m, in \u001b[0;36mtrain_step\u001b[0;34m(model, x, t, e, breslow_splines, optimizer, bs, seed, typ, use_posteriors, update_splines_after, smoothing_factor)\u001b[0m\n\u001b[1;32m    206\u001b[0m   posteriors \u001b[38;5;241m=\u001b[39m e_step(model, breslow_splines, xb, tb, eb)\n\u001b[1;32m    208\u001b[0m torch\u001b[38;5;241m.\u001b[39menable_grad()\n\u001b[0;32m--> 209\u001b[0m loss \u001b[38;5;241m=\u001b[39m \u001b[43mm_step\u001b[49m\u001b[43m(\u001b[49m\u001b[43mmodel\u001b[49m\u001b[43m,\u001b[49m\u001b[43m \u001b[49m\u001b[43moptimizer\u001b[49m\u001b[43m,\u001b[49m\u001b[43m \u001b[49m\u001b[43mxb\u001b[49m\u001b[43m,\u001b[49m\u001b[43m \u001b[49m\u001b[43mtb\u001b[49m\u001b[43m,\u001b[49m\u001b[43m \u001b[49m\u001b[43meb\u001b[49m\u001b[43m,\u001b[49m\u001b[43m \u001b[49m\u001b[43mposteriors\u001b[49m\u001b[43m,\u001b[49m\u001b[43m \u001b[49m\u001b[43mtyp\u001b[49m\u001b[38;5;241;43m=\u001b[39;49m\u001b[43mtyp\u001b[49m\u001b[43m)\u001b[49m\n\u001b[1;32m    211\u001b[0m \u001b[38;5;28;01mwith\u001b[39;00m torch\u001b[38;5;241m.\u001b[39mno_grad():\n\u001b[1;32m    212\u001b[0m   \u001b[38;5;28;01mtry\u001b[39;00m:\n",
      "File \u001b[0;32m~/Documents/Jiacheng/dspm-auton-survival/auton_survival/models/dcm/dcm_utilities.py:152\u001b[0m, in \u001b[0;36mm_step\u001b[0;34m(model, optimizer, x, t, e, posteriors, typ)\u001b[0m\n\u001b[1;32m    149\u001b[0m \u001b[38;5;28;01mdef\u001b[39;00m \u001b[38;5;21mm_step\u001b[39m(model, optimizer, x, t, e, posteriors, typ\u001b[38;5;241m=\u001b[39m\u001b[38;5;124m'\u001b[39m\u001b[38;5;124msoft\u001b[39m\u001b[38;5;124m'\u001b[39m):\n\u001b[1;32m    151\u001b[0m   optimizer\u001b[38;5;241m.\u001b[39mzero_grad()\n\u001b[0;32m--> 152\u001b[0m   loss \u001b[38;5;241m=\u001b[39m \u001b[43mq_function\u001b[49m\u001b[43m(\u001b[49m\u001b[43mmodel\u001b[49m\u001b[43m,\u001b[49m\u001b[43m \u001b[49m\u001b[43mx\u001b[49m\u001b[43m,\u001b[49m\u001b[43m \u001b[49m\u001b[43mt\u001b[49m\u001b[43m,\u001b[49m\u001b[43m \u001b[49m\u001b[43me\u001b[49m\u001b[43m,\u001b[49m\u001b[43m \u001b[49m\u001b[43mposteriors\u001b[49m\u001b[43m,\u001b[49m\u001b[43m \u001b[49m\u001b[43mtyp\u001b[49m\u001b[43m)\u001b[49m\n\u001b[1;32m    153\u001b[0m   loss\u001b[38;5;241m.\u001b[39mbackward()\n\u001b[1;32m    154\u001b[0m   optimizer\u001b[38;5;241m.\u001b[39mstep()\n",
      "File \u001b[0;32m~/Documents/Jiacheng/dspm-auton-survival/auton_survival/models/dcm/dcm_utilities.py:116\u001b[0m, in \u001b[0;36mq_function\u001b[0;34m(model, x, t, e, posteriors, typ)\u001b[0m\n\u001b[1;32m    113\u001b[0m \u001b[38;5;28;01mdef\u001b[39;00m \u001b[38;5;21mq_function\u001b[39m(model, x, t, e, posteriors, typ\u001b[38;5;241m=\u001b[39m\u001b[38;5;124m'\u001b[39m\u001b[38;5;124msoft\u001b[39m\u001b[38;5;124m'\u001b[39m):\n\u001b[1;32m    115\u001b[0m   \u001b[38;5;28;01mif\u001b[39;00m typ \u001b[38;5;241m==\u001b[39m \u001b[38;5;124m'\u001b[39m\u001b[38;5;124mhard\u001b[39m\u001b[38;5;124m'\u001b[39m: z \u001b[38;5;241m=\u001b[39m get_hard_z(posteriors)\n\u001b[0;32m--> 116\u001b[0m   \u001b[38;5;28;01melse\u001b[39;00m: z \u001b[38;5;241m=\u001b[39m \u001b[43msample_hard_z\u001b[49m\u001b[43m(\u001b[49m\u001b[43mposteriors\u001b[49m\u001b[43m)\u001b[49m\n\u001b[1;32m    118\u001b[0m   gates, lrisks \u001b[38;5;241m=\u001b[39m model(x)\n\u001b[1;32m    120\u001b[0m   k \u001b[38;5;241m=\u001b[39m model\u001b[38;5;241m.\u001b[39mk\n",
      "File \u001b[0;32m~/Documents/Jiacheng/dspm-auton-survival/auton_survival/models/dcm/dcm_utilities.py:84\u001b[0m, in \u001b[0;36msample_hard_z\u001b[0;34m(gates_prob)\u001b[0m\n\u001b[1;32m     83\u001b[0m \u001b[38;5;28;01mdef\u001b[39;00m \u001b[38;5;21msample_hard_z\u001b[39m(gates_prob):\n\u001b[0;32m---> 84\u001b[0m   \u001b[38;5;28;01mreturn\u001b[39;00m \u001b[43mtorch\u001b[49m\u001b[38;5;241;43m.\u001b[39;49m\u001b[43mmultinomial\u001b[49m\u001b[43m(\u001b[49m\u001b[43mgates_prob\u001b[49m\u001b[38;5;241;43m.\u001b[39;49m\u001b[43mexp\u001b[49m\u001b[43m(\u001b[49m\u001b[43m)\u001b[49m\u001b[43m,\u001b[49m\u001b[43m \u001b[49m\u001b[43mnum_samples\u001b[49m\u001b[38;5;241;43m=\u001b[39;49m\u001b[38;5;241;43m1\u001b[39;49m\u001b[43m)\u001b[49m[:, \u001b[38;5;241m0\u001b[39m]\n",
      "\u001b[0;31mRuntimeError\u001b[0m: probability tensor contains either `inf`, `nan` or element < 0"
     ]
    }
   ],
   "source": [
    "baseline('DCM', 'kkbox', 1e-2)"
   ]
  }
 ],
 "metadata": {
  "kernelspec": {
   "display_name": "python310",
   "language": "python",
   "name": "python3"
  },
  "language_info": {
   "codemirror_mode": {
    "name": "ipython",
    "version": 3
   },
   "file_extension": ".py",
   "mimetype": "text/x-python",
   "name": "python",
   "nbconvert_exporter": "python",
   "pygments_lexer": "ipython3",
   "version": "3.10.13"
  }
 },
 "nbformat": 4,
 "nbformat_minor": 2
}
