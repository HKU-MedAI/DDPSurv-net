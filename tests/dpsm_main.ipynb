{
 "cells": [
  {
   "cell_type": "code",
   "execution_count": 5,
   "metadata": {},
   "outputs": [],
   "source": [
    "from auton_survival import datasets\n",
    "\n",
    "outcomes, features = datasets.load_support()"
   ]
  },
  {
   "cell_type": "code",
   "execution_count": 6,
   "metadata": {},
   "outputs": [
    {
     "name": "stdout",
     "output_type": "stream",
     "text": [
      "218 31 62\n"
     ]
    }
   ],
   "source": [
    "from auton_survival.preprocessing import Preprocessor\n",
    "\n",
    "cat_feats = ['sex', 'dzgroup', 'dzclass', 'income', 'race', 'ca']\n",
    "num_feats = ['age', 'num.co', 'meanbp', 'wblc', 'hrt', 'resp',\n",
    "             'temp', 'pafi', 'alb', 'bili', 'crea', 'sod', 'ph',\n",
    "             'glucose', 'bun', 'urine', 'adlp', 'adls']\n",
    "\n",
    "features = Preprocessor().fit_transform(features, cat_feats=cat_feats, num_feats=num_feats)\n",
    "\n",
    "import numpy as np\n",
    "\n",
    "horizons = [0.25, 0.5, 0.75]\n",
    "times = np.quantile(outcomes.time[outcomes.event == 1], horizons).tolist()\n",
    "\n",
    "x, t, e = features.values.astype(float), outcomes.time.values.astype(float), outcomes.event.values.astype(float)\n",
    "\n",
    "n = len(x)\n",
    "\n",
    "tr_size = int(n * 0.70)\n",
    "vl_size = int(n * 0.10)\n",
    "te_size = int(n * 0.20)\n",
    "\n",
    "print(tr_size, vl_size, te_size)\n",
    "\n",
    "x_train, x_test, x_val = x[:tr_size], x[-te_size:], x[tr_size:tr_size + vl_size]\n",
    "t_train, t_test, t_val = t[:tr_size], t[-te_size:], t[tr_size:tr_size + vl_size]\n",
    "e_train, e_test, e_val = e[:tr_size], e[-te_size:], e[tr_size:tr_size + vl_size]"
   ]
  },
  {
   "cell_type": "code",
   "execution_count": 7,
   "metadata": {},
   "outputs": [
    {
     "data": {
      "text/plain": [
       "(2, 25)"
      ]
     },
     "execution_count": 7,
     "metadata": {},
     "output_type": "execute_result"
    }
   ],
   "source": [
    "x_train[0].shape"
   ]
  },
  {
   "cell_type": "code",
   "execution_count": 8,
   "metadata": {},
   "outputs": [
    {
     "ename": "AttributeError",
     "evalue": "'list' object has no attribute 'shape'",
     "output_type": "error",
     "traceback": [
      "\u001b[0;31m---------------------------------------------------------------------------\u001b[0m",
      "\u001b[0;31mAttributeError\u001b[0m                            Traceback (most recent call last)",
      "\u001b[1;32m/home/fywang/Documents/dspm-auton-survival/tests/dpsm_main.ipynb Cell 4\u001b[0m line \u001b[0;36m1\n\u001b[1;32m      <a href='vscode-notebook-cell://ssh-remote%2Bresearch15.saas.hku.hk/home/fywang/Documents/dspm-auton-survival/tests/dpsm_main.ipynb#W2sdnNjb2RlLXJlbW90ZQ%3D%3D?line=8'>9</a>\u001b[0m model \u001b[39m=\u001b[39m DeepSurvivalMachines(\n\u001b[1;32m     <a href='vscode-notebook-cell://ssh-remote%2Bresearch15.saas.hku.hk/home/fywang/Documents/dspm-auton-survival/tests/dpsm_main.ipynb#W2sdnNjb2RlLXJlbW90ZQ%3D%3D?line=9'>10</a>\u001b[0m     k\u001b[39m=\u001b[39m\u001b[39m4\u001b[39m,\n\u001b[1;32m     <a href='vscode-notebook-cell://ssh-remote%2Bresearch15.saas.hku.hk/home/fywang/Documents/dspm-auton-survival/tests/dpsm_main.ipynb#W2sdnNjb2RlLXJlbW90ZQ%3D%3D?line=10'>11</a>\u001b[0m     distribution\u001b[39m=\u001b[39m\u001b[39m\"\u001b[39m\u001b[39mLogNormal\u001b[39m\u001b[39m\"\u001b[39m,\n\u001b[1;32m     <a href='vscode-notebook-cell://ssh-remote%2Bresearch15.saas.hku.hk/home/fywang/Documents/dspm-auton-survival/tests/dpsm_main.ipynb#W2sdnNjb2RlLXJlbW90ZQ%3D%3D?line=11'>12</a>\u001b[0m     layers\u001b[39m=\u001b[39m[\u001b[39m100\u001b[39m]\n\u001b[1;32m     <a href='vscode-notebook-cell://ssh-remote%2Bresearch15.saas.hku.hk/home/fywang/Documents/dspm-auton-survival/tests/dpsm_main.ipynb#W2sdnNjb2RlLXJlbW90ZQ%3D%3D?line=12'>13</a>\u001b[0m )\n\u001b[1;32m     <a href='vscode-notebook-cell://ssh-remote%2Bresearch15.saas.hku.hk/home/fywang/Documents/dspm-auton-survival/tests/dpsm_main.ipynb#W2sdnNjb2RlLXJlbW90ZQ%3D%3D?line=13'>14</a>\u001b[0m \u001b[39m# The fit method is called to train the model\u001b[39;00m\n\u001b[0;32m---> <a href='vscode-notebook-cell://ssh-remote%2Bresearch15.saas.hku.hk/home/fywang/Documents/dspm-auton-survival/tests/dpsm_main.ipynb#W2sdnNjb2RlLXJlbW90ZQ%3D%3D?line=14'>15</a>\u001b[0m model\u001b[39m.\u001b[39;49mfit(x_train, t_train, e_train, iters\u001b[39m=\u001b[39;49m\u001b[39m100\u001b[39;49m, learning_rate\u001b[39m=\u001b[39;49m\u001b[39m0.001\u001b[39;49m)\n",
      "File \u001b[0;32m~/Documents/dspm-auton-survival/auton_survival/models/dsm/__init__.py:246\u001b[0m, in \u001b[0;36mDSMBase.fit\u001b[0;34m(self, x, t, e, vsize, val_data, iters, learning_rate, batch_size, elbo, optimizer)\u001b[0m\n\u001b[1;32m    211\u001b[0m \u001b[39mdef\u001b[39;00m \u001b[39mfit\u001b[39m(\u001b[39mself\u001b[39m, x, t, e, vsize\u001b[39m=\u001b[39m\u001b[39m0.15\u001b[39m, val_data\u001b[39m=\u001b[39m\u001b[39mNone\u001b[39;00m,\n\u001b[1;32m    212\u001b[0m         iters\u001b[39m=\u001b[39m\u001b[39m1\u001b[39m, learning_rate\u001b[39m=\u001b[39m\u001b[39m1e-3\u001b[39m, batch_size\u001b[39m=\u001b[39m\u001b[39m100\u001b[39m,\n\u001b[1;32m    213\u001b[0m         elbo\u001b[39m=\u001b[39m\u001b[39mTrue\u001b[39;00m, optimizer\u001b[39m=\u001b[39m\u001b[39m\"\u001b[39m\u001b[39mAdam\u001b[39m\u001b[39m\"\u001b[39m):\n\u001b[1;32m    215\u001b[0m \u001b[39m  \u001b[39m\u001b[39mr\u001b[39m\u001b[39m\"\"\"This method is used to train an instance of the DSM model.\u001b[39;00m\n\u001b[1;32m    216\u001b[0m \n\u001b[1;32m    217\u001b[0m \u001b[39m  Parameters\u001b[39;00m\n\u001b[0;32m   (...)\u001b[0m\n\u001b[1;32m    243\u001b[0m \n\u001b[1;32m    244\u001b[0m \u001b[39m  \"\"\"\u001b[39;00m\n\u001b[0;32m--> 246\u001b[0m   processed_data \u001b[39m=\u001b[39m \u001b[39mself\u001b[39;49m\u001b[39m.\u001b[39;49m_preprocess_training_data(x, t, e,\n\u001b[1;32m    247\u001b[0m                                                   vsize, val_data,\n\u001b[1;32m    248\u001b[0m                                                   \u001b[39mself\u001b[39;49m\u001b[39m.\u001b[39;49mrandom_seed)\n\u001b[1;32m    249\u001b[0m   x_train, t_train, e_train, x_val, t_val, e_val \u001b[39m=\u001b[39m processed_data\n\u001b[1;32m    251\u001b[0m   \u001b[39m#Todo: Change this somehow. The base design shouldn't depend on child\u001b[39;00m\n",
      "File \u001b[0;32m~/Documents/dspm-auton-survival/auton_survival/models/dsm/__init__.py:318\u001b[0m, in \u001b[0;36mDSMBase._preprocess_training_data\u001b[0;34m(self, x, t, e, vsize, val_data, random_seed)\u001b[0m\n\u001b[1;32m    315\u001b[0m t \u001b[39m=\u001b[39m _dataframe_to_array(t)\n\u001b[1;32m    316\u001b[0m e \u001b[39m=\u001b[39m _dataframe_to_array(e)\n\u001b[0;32m--> 318\u001b[0m idx \u001b[39m=\u001b[39m \u001b[39mlist\u001b[39m(\u001b[39mrange\u001b[39m(x\u001b[39m.\u001b[39;49mshape[\u001b[39m0\u001b[39m]))\n\u001b[1;32m    319\u001b[0m np\u001b[39m.\u001b[39mrandom\u001b[39m.\u001b[39mseed(random_seed)\n\u001b[1;32m    320\u001b[0m np\u001b[39m.\u001b[39mrandom\u001b[39m.\u001b[39mshuffle(idx)\n",
      "\u001b[0;31mAttributeError\u001b[0m: 'list' object has no attribute 'shape'"
     ]
    }
   ],
   "source": [
    "models = []\n",
    "\n",
    "from auton_survival.models.dpsm import DeepDP\n",
    "from auton_survival.models.dsm import DeepSurvivalMachines\n",
    "\n",
    "# model = DeepDP(k=3,\n",
    "#                distribution='LogNormal',\n",
    "#                layers=[100])\n",
    "model = DeepSurvivalMachines(\n",
    "    k=4,\n",
    "    distribution=\"LogNormal\",\n",
    "    layers=[100]\n",
    ")\n",
    "# The fit method is called to train the model\n",
    "model.fit(x_train, t_train, e_train, iters=100, learning_rate=0.001)"
   ]
  },
  {
   "cell_type": "code",
   "execution_count": null,
   "metadata": {},
   "outputs": [],
   "source": [
    "trained_weights = model.trained_weights\n",
    "print(trained_weights.shape)"
   ]
  },
  {
   "cell_type": "code",
   "execution_count": null,
   "metadata": {},
   "outputs": [],
   "source": [
    "import seaborn as sns\n",
    "import matplotlib.pyplot as plt\n",
    "\n",
    "figs, axes = plt.subplots(1, 3, figsize=(15, 5))\n",
    "iter_idx = [14, 15, 16]\n",
    "\n",
    "for idx in range(3):\n",
    "    sns.kdeplot(trained_weights[iter_idx[idx]][:, 0], fill=True, ax=axes[idx])\n",
    "    sns.kdeplot(trained_weights[iter_idx[idx]][:, 1], fill=True, ax=axes[idx])\n",
    "    sns.kdeplot(trained_weights[iter_idx[idx]][:, 2], fill=True, ax=axes[idx])\n",
    "    sns.kdeplot(trained_weights[iter_idx[idx]][:, 3], fill=True, ax=axes[idx])\n",
    "    axes[idx].set_title(f'Iter {iter_idx[idx]}')\n",
    "    # axes[idx].set_xlim(0.124, 0.126)\n",
    "\n",
    "# sns.kdeplot(trained_weights[iter_idx][:, 0], fill=True)\n",
    "# sns.kdeplot(trained_weights[iter_idx][:, 1], fill=True)\n",
    "# sns.kdeplot(trained_weights[iter_idx][:, 2], fill=True)\n",
    "# plt.title(f'Iter {iter_idx}')"
   ]
  },
  {
   "cell_type": "code",
   "execution_count": null,
   "metadata": {},
   "outputs": [],
   "source": []
  },
  {
   "cell_type": "markdown",
   "metadata": {},
   "source": []
  }
 ],
 "metadata": {
  "kernelspec": {
   "display_name": "survival",
   "language": "python",
   "name": "python3"
  },
  "language_info": {
   "codemirror_mode": {
    "name": "ipython",
    "version": 3
   },
   "file_extension": ".py",
   "mimetype": "text/x-python",
   "name": "python",
   "nbconvert_exporter": "python",
   "pygments_lexer": "ipython3",
   "version": "3.9.18"
  }
 },
 "nbformat": 4,
 "nbformat_minor": 2
}
