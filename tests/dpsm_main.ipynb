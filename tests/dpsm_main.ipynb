{
 "cells": [
  {
   "cell_type": "code",
   "execution_count": 62,
   "metadata": {},
   "outputs": [
    {
     "name": "stdout",
     "output_type": "stream",
     "text": [
      "Downloading from Kaggle...\n",
      "Downloading train.csv.7z to /home/r10user10/Documents/anaconda3/envs/python310/lib/python3.10/site-packages/pycox/datasets/data/kkbox_v1\n"
     ]
    },
    {
     "name": "stderr",
     "output_type": "stream",
     "text": [
      "100%|██████████| 32.0M/32.0M [00:03<00:00, 10.0MB/s]\n"
     ]
    },
    {
     "name": "stdout",
     "output_type": "stream",
     "text": [
      "\n",
      "Downloading transactions.csv.7z to /home/r10user10/Documents/anaconda3/envs/python310/lib/python3.10/site-packages/pycox/datasets/data/kkbox_v1\n"
     ]
    },
    {
     "name": "stderr",
     "output_type": "stream",
     "text": [
      "100%|██████████| 675M/675M [00:48<00:00, 14.7MB/s] \n"
     ]
    },
    {
     "name": "stdout",
     "output_type": "stream",
     "text": [
      "\n",
      "Downloading members_v3.csv.7z to /home/r10user10/Documents/anaconda3/envs/python310/lib/python3.10/site-packages/pycox/datasets/data/kkbox_v1\n"
     ]
    },
    {
     "name": "stderr",
     "output_type": "stream",
     "text": [
      "100%|██████████| 231M/231M [00:20<00:00, 12.0MB/s] \n"
     ]
    },
    {
     "name": "stdout",
     "output_type": "stream",
     "text": [
      "\n",
      "Extracting 'train'...\n",
      "Finished extracting 'train'.\n",
      "Extracting 'transactions'...\n",
      "Finished extracting 'transactions'.\n",
      "Extracting 'members_v3'...\n",
      "Finished extracting 'members_v3'.\n",
      "Making feather data frames...\n",
      "Creating survival data...\n",
      "Creating covariates...\n"
     ]
    },
    {
     "name": "stderr",
     "output_type": "stream",
     "text": [
      "/home/r10user10/Documents/anaconda3/envs/python310/lib/python3.10/site-packages/pycox/datasets/from_kkbox.py:339: FutureWarning: The pandas.datetime class is deprecated and will be removed from pandas in a future version. Import from datetime module instead.\n",
      "  fixed_date = pd.datetime(2017, 3, 1)\n"
     ]
    },
    {
     "name": "stdout",
     "output_type": "stream",
     "text": [
      "Creating train/test/val subsets...\n",
      "Cleaning up...\n",
      "Done! You can now call `df = kkbox.read_df()`.\n"
     ]
    }
   ],
   "source": [
    "from pycox.datasets import from_kkbox\n",
    "\n",
    "kkbox_data = from_kkbox._DatasetKKBoxChurn()\n",
    "kkbox_data.download_kkbox()"
   ]
  },
  {
   "cell_type": "code",
   "execution_count": 180,
   "metadata": {},
   "outputs": [
    {
     "data": {
      "text/html": [
       "<div>\n",
       "<style scoped>\n",
       "    .dataframe tbody tr th:only-of-type {\n",
       "        vertical-align: middle;\n",
       "    }\n",
       "\n",
       "    .dataframe tbody tr th {\n",
       "        vertical-align: top;\n",
       "    }\n",
       "\n",
       "    .dataframe thead th {\n",
       "        text-align: right;\n",
       "    }\n",
       "</style>\n",
       "<table border=\"1\" class=\"dataframe\">\n",
       "  <thead>\n",
       "    <tr style=\"text-align: right;\">\n",
       "      <th></th>\n",
       "      <th>msno</th>\n",
       "      <th>event</th>\n",
       "      <th>n_prev_churns</th>\n",
       "      <th>log_days_between_subs</th>\n",
       "      <th>duration</th>\n",
       "      <th>log_days_since_reg_init</th>\n",
       "      <th>log_payment_plan_days</th>\n",
       "      <th>log_plan_list_price</th>\n",
       "      <th>log_actual_amount_paid</th>\n",
       "      <th>is_auto_renew</th>\n",
       "      <th>is_cancel</th>\n",
       "      <th>city</th>\n",
       "      <th>gender</th>\n",
       "      <th>registered_via</th>\n",
       "      <th>age_at_start</th>\n",
       "      <th>strange_age</th>\n",
       "      <th>nan_days_since_reg_init</th>\n",
       "      <th>no_prev_churns</th>\n",
       "    </tr>\n",
       "  </thead>\n",
       "  <tbody>\n",
       "    <tr>\n",
       "      <th>0</th>\n",
       "      <td>khTQl3B7k10IA9zPMpm5jMc4VxHKh+mo8ngDaos2Od4=</td>\n",
       "      <td>1.0</td>\n",
       "      <td>0.0</td>\n",
       "      <td>0.0</td>\n",
       "      <td>7.0</td>\n",
       "      <td>0.000000</td>\n",
       "      <td>2.079442</td>\n",
       "      <td>0.000000</td>\n",
       "      <td>0.000000</td>\n",
       "      <td>0.0</td>\n",
       "      <td>0.0</td>\n",
       "      <td>NaN</td>\n",
       "      <td>NaN</td>\n",
       "      <td>NaN</td>\n",
       "      <td>-1.0</td>\n",
       "      <td>0.0</td>\n",
       "      <td>1.0</td>\n",
       "      <td>1.0</td>\n",
       "    </tr>\n",
       "    <tr>\n",
       "      <th>1</th>\n",
       "      <td>2jy816+2+7/UYg7RNhP1PnifBmP9CL0/3ioqGBg/jrc=</td>\n",
       "      <td>0.0</td>\n",
       "      <td>0.0</td>\n",
       "      <td>0.0</td>\n",
       "      <td>694.0</td>\n",
       "      <td>4.262680</td>\n",
       "      <td>3.433987</td>\n",
       "      <td>5.017280</td>\n",
       "      <td>5.017280</td>\n",
       "      <td>0.0</td>\n",
       "      <td>0.0</td>\n",
       "      <td>15</td>\n",
       "      <td>NaN</td>\n",
       "      <td>9</td>\n",
       "      <td>0.0</td>\n",
       "      <td>1.0</td>\n",
       "      <td>0.0</td>\n",
       "      <td>1.0</td>\n",
       "    </tr>\n",
       "    <tr>\n",
       "      <th>2</th>\n",
       "      <td>yTnAG21OBNMRG6yL2ovgHG5zJ2GFTRpRZDVP04dqsKY=</td>\n",
       "      <td>1.0</td>\n",
       "      <td>0.0</td>\n",
       "      <td>0.0</td>\n",
       "      <td>61.0</td>\n",
       "      <td>0.000000</td>\n",
       "      <td>3.433987</td>\n",
       "      <td>5.010635</td>\n",
       "      <td>0.000000</td>\n",
       "      <td>1.0</td>\n",
       "      <td>0.0</td>\n",
       "      <td>NaN</td>\n",
       "      <td>NaN</td>\n",
       "      <td>NaN</td>\n",
       "      <td>-1.0</td>\n",
       "      <td>0.0</td>\n",
       "      <td>1.0</td>\n",
       "      <td>1.0</td>\n",
       "    </tr>\n",
       "    <tr>\n",
       "      <th>3</th>\n",
       "      <td>PU3abZF43MOIGUKry3qu9vetFKi1d7BlJ8//Kk4zIHY=</td>\n",
       "      <td>0.0</td>\n",
       "      <td>0.0</td>\n",
       "      <td>0.0</td>\n",
       "      <td>58.0</td>\n",
       "      <td>0.693147</td>\n",
       "      <td>3.433987</td>\n",
       "      <td>4.615121</td>\n",
       "      <td>4.615121</td>\n",
       "      <td>1.0</td>\n",
       "      <td>0.0</td>\n",
       "      <td>1</td>\n",
       "      <td>NaN</td>\n",
       "      <td>7</td>\n",
       "      <td>-0.0</td>\n",
       "      <td>1.0</td>\n",
       "      <td>0.0</td>\n",
       "      <td>1.0</td>\n",
       "    </tr>\n",
       "    <tr>\n",
       "      <th>4</th>\n",
       "      <td>h7n6QC+6LkEsVtWHknIABBGN87SSMhu1cCEYq0f5lxw=</td>\n",
       "      <td>1.0</td>\n",
       "      <td>0.0</td>\n",
       "      <td>0.0</td>\n",
       "      <td>30.0</td>\n",
       "      <td>0.693147</td>\n",
       "      <td>3.433987</td>\n",
       "      <td>5.010635</td>\n",
       "      <td>0.000000</td>\n",
       "      <td>1.0</td>\n",
       "      <td>0.0</td>\n",
       "      <td>13</td>\n",
       "      <td>female</td>\n",
       "      <td>7</td>\n",
       "      <td>0.0</td>\n",
       "      <td>1.0</td>\n",
       "      <td>0.0</td>\n",
       "      <td>1.0</td>\n",
       "    </tr>\n",
       "  </tbody>\n",
       "</table>\n",
       "</div>"
      ],
      "text/plain": [
       "                                           msno  event  n_prev_churns  \\\n",
       "0  khTQl3B7k10IA9zPMpm5jMc4VxHKh+mo8ngDaos2Od4=    1.0            0.0   \n",
       "1  2jy816+2+7/UYg7RNhP1PnifBmP9CL0/3ioqGBg/jrc=    0.0            0.0   \n",
       "2  yTnAG21OBNMRG6yL2ovgHG5zJ2GFTRpRZDVP04dqsKY=    1.0            0.0   \n",
       "3  PU3abZF43MOIGUKry3qu9vetFKi1d7BlJ8//Kk4zIHY=    0.0            0.0   \n",
       "4  h7n6QC+6LkEsVtWHknIABBGN87SSMhu1cCEYq0f5lxw=    1.0            0.0   \n",
       "\n",
       "   log_days_between_subs  duration  log_days_since_reg_init  \\\n",
       "0                    0.0       7.0                 0.000000   \n",
       "1                    0.0     694.0                 4.262680   \n",
       "2                    0.0      61.0                 0.000000   \n",
       "3                    0.0      58.0                 0.693147   \n",
       "4                    0.0      30.0                 0.693147   \n",
       "\n",
       "   log_payment_plan_days  log_plan_list_price  log_actual_amount_paid  \\\n",
       "0               2.079442             0.000000                0.000000   \n",
       "1               3.433987             5.017280                5.017280   \n",
       "2               3.433987             5.010635                0.000000   \n",
       "3               3.433987             4.615121                4.615121   \n",
       "4               3.433987             5.010635                0.000000   \n",
       "\n",
       "   is_auto_renew  is_cancel city  gender registered_via  age_at_start  \\\n",
       "0            0.0        0.0  NaN     NaN            NaN          -1.0   \n",
       "1            0.0        0.0   15     NaN              9           0.0   \n",
       "2            1.0        0.0  NaN     NaN            NaN          -1.0   \n",
       "3            1.0        0.0    1     NaN              7          -0.0   \n",
       "4            1.0        0.0   13  female              7           0.0   \n",
       "\n",
       "   strange_age  nan_days_since_reg_init  no_prev_churns  \n",
       "0          0.0                      1.0             1.0  \n",
       "1          1.0                      0.0             1.0  \n",
       "2          0.0                      1.0             1.0  \n",
       "3          1.0                      0.0             1.0  \n",
       "4          1.0                      0.0             1.0  "
      ]
     },
     "execution_count": 180,
     "metadata": {},
     "output_type": "execute_result"
    }
   ],
   "source": [
    "df = kkbox_data.read_df()\n",
    "df.head(5)"
   ]
  },
  {
   "cell_type": "code",
   "execution_count": 181,
   "metadata": {},
   "outputs": [
    {
     "data": {
      "text/plain": [
       "0.0    1581380\n",
       "1.0     152599\n",
       "2.0      38192\n",
       "3.0      10541\n",
       "4.0       3052\n",
       "5.0        500\n",
       "6.0         82\n",
       "7.0         12\n",
       "Name: n_prev_churns, dtype: int64"
      ]
     },
     "execution_count": 181,
     "metadata": {},
     "output_type": "execute_result"
    }
   ],
   "source": [
    "df['n_prev_churns'].value_counts()"
   ]
  },
  {
   "cell_type": "code",
   "execution_count": 182,
   "metadata": {},
   "outputs": [
    {
     "data": {
      "text/plain": [
       "0.000000    1668528\n",
       "3.465736       6977\n",
       "3.496508       4461\n",
       "3.637586       3502\n",
       "3.663562       2430\n",
       "             ...   \n",
       "6.536692          1\n",
       "6.502790          1\n",
       "6.489205          1\n",
       "6.452049          1\n",
       "6.517671          1\n",
       "Name: log_days_between_subs, Length: 650, dtype: int64"
      ]
     },
     "execution_count": 182,
     "metadata": {},
     "output_type": "execute_result"
    }
   ],
   "source": [
    "df['log_days_between_subs'].value_counts()"
   ]
  },
  {
   "cell_type": "code",
   "execution_count": 183,
   "metadata": {},
   "outputs": [
    {
     "data": {
      "text/plain": [
       "30.0     228480\n",
       "7.0      164844\n",
       "5.0       61972\n",
       "29.0      45301\n",
       "790.0     35678\n",
       "          ...  \n",
       "665.0       175\n",
       "817.0       110\n",
       "820.0       102\n",
       "818.0        97\n",
       "819.0        94\n",
       "Name: duration, Length: 820, dtype: int64"
      ]
     },
     "execution_count": 183,
     "metadata": {},
     "output_type": "execute_result"
    }
   ],
   "source": [
    "df['duration'].value_counts()"
   ]
  },
  {
   "cell_type": "code",
   "execution_count": 184,
   "metadata": {},
   "outputs": [
    {
     "data": {
      "text/plain": [
       "1.0    1279377\n",
       "0.0     506981\n",
       "Name: event, dtype: int64"
      ]
     },
     "execution_count": 184,
     "metadata": {},
     "output_type": "execute_result"
    }
   ],
   "source": [
    "df['event'].value_counts()"
   ]
  },
  {
   "cell_type": "code",
   "execution_count": 185,
   "metadata": {},
   "outputs": [],
   "source": [
    "import numpy as np\n",
    "import pandas as pd\n",
    "\n",
    "e = np.array(df.event)\n",
    "t = np.array(df.duration)\n",
    "x = df.drop(columns=['event','duration','msno'])"
   ]
  },
  {
   "cell_type": "code",
   "execution_count": 186,
   "metadata": {},
   "outputs": [
    {
     "data": {
      "text/plain": [
       "0          2\n",
       "1          2\n",
       "2          2\n",
       "3          2\n",
       "4          0\n",
       "          ..\n",
       "1786353    2\n",
       "1786354    0\n",
       "1786355    1\n",
       "1786356    0\n",
       "1786357    2\n",
       "Name: gender, Length: 1786358, dtype: int64"
      ]
     },
     "execution_count": 186,
     "metadata": {},
     "output_type": "execute_result"
    }
   ],
   "source": [
    "from sklearn.preprocessing import LabelEncoder\n",
    "le = LabelEncoder()\n",
    "x['gender'] = le.fit_transform(x['gender'])\n",
    "x['gender']"
   ]
  },
  {
   "cell_type": "code",
   "execution_count": 187,
   "metadata": {},
   "outputs": [],
   "source": [
    "x['city'] = le.fit_transform(x['city'])\n"
   ]
  },
  {
   "cell_type": "code",
   "execution_count": 188,
   "metadata": {},
   "outputs": [
    {
     "data": {
      "text/plain": [
       "0          7\n",
       "1          3\n",
       "2          7\n",
       "3          2\n",
       "4          2\n",
       "          ..\n",
       "1786353    7\n",
       "1786354    1\n",
       "1786355    0\n",
       "1786356    3\n",
       "1786357    7\n",
       "Name: registered_via, Length: 1786358, dtype: int64"
      ]
     },
     "execution_count": 188,
     "metadata": {},
     "output_type": "execute_result"
    }
   ],
   "source": [
    "x['registered_via'] = le.fit_transform(x['registered_via'])\n",
    "x['registered_via']"
   ]
  },
  {
   "cell_type": "code",
   "execution_count": 189,
   "metadata": {},
   "outputs": [
    {
     "data": {
      "text/plain": [
       "(array([], dtype=int64), array([], dtype=int64))"
      ]
     },
     "execution_count": 189,
     "metadata": {},
     "output_type": "execute_result"
    }
   ],
   "source": [
    "x = np.array(x).astype(float)\n",
    "np.where(np.isnan(x) == True)"
   ]
  },
  {
   "cell_type": "code",
   "execution_count": 190,
   "metadata": {},
   "outputs": [],
   "source": [
    "import os, sys\n",
    "import numpy as np \n",
    "#path = os.getcwd()\n",
    "path = '/home/r10user10/Documents/Jiacheng/dspm-auton-survival'\n",
    "os.chdir(path)\n",
    "\n",
    "from auton_survival import datasets\n",
    "# outcomes, features, interventions = datasets.load_dataset(\"SYNTHETIC\")\n",
    "# x, t, e = np.array(x), np.array(t), np.array(e)"
   ]
  },
  {
   "cell_type": "code",
   "execution_count": 191,
   "metadata": {},
   "outputs": [],
   "source": [
    "# t = np.array(outcomes.time)\n",
    "# e = np.array(outcomes.event)\n",
    "# x = np.array(features)\n"
   ]
  },
  {
   "cell_type": "code",
   "execution_count": 192,
   "metadata": {},
   "outputs": [
    {
     "name": "stdout",
     "output_type": "stream",
     "text": [
      "1250450 178635 357271\n"
     ]
    }
   ],
   "source": [
    "# from auton_survival.preprocessing import Preprocessor\n",
    "\n",
    "# cat_feats = ['sex', 'dzgroup', 'dzclass', 'income', 'race', 'ca']\n",
    "# num_feats = ['age', 'num.co', 'meanbp', 'wblc', 'hrt', 'resp',\n",
    "#              'temp', 'pafi', 'alb', 'bili', 'crea', 'sod', 'ph',\n",
    "#              'glucose', 'bun', 'urine', 'adlp', 'adls']\n",
    "\n",
    "# features = Preprocessor().fit_transform(features, cat_feats=cat_feats, num_feats=num_feats)\n",
    "\n",
    "# import numpy as np\n",
    "\n",
    "# horizons = [0.25, 0.5, 0.75]\n",
    "# times = np.quantile(outcomes.time[outcomes.event == 1], horizons).tolist()\n",
    "\n",
    "# x, t, e = features.values.astype(float), outcomes.time.values.astype(float), outcomes.event.values.astype(float)\n",
    "\n",
    "n = len(x)\n",
    "\n",
    "tr_size = int(n * 0.70)\n",
    "vl_size = int(n * 0.10)\n",
    "te_size = int(n * 0.20)\n",
    "\n",
    "print(tr_size, vl_size, te_size)\n",
    "\n",
    "x_train, x_test, x_val = x[:tr_size], x[-te_size:], x[tr_size:tr_size + vl_size]\n",
    "t_train, t_test, t_val = t[:tr_size], t[-te_size:], t[tr_size:tr_size + vl_size]\n",
    "e_train, e_test, e_val = e[:tr_size], e[-te_size:], e[tr_size:tr_size + vl_size]"
   ]
  },
  {
   "cell_type": "code",
   "execution_count": 199,
   "metadata": {},
   "outputs": [
    {
     "name": "stderr",
     "output_type": "stream",
     "text": [
      " 10%|█         | 1006/10000 [00:47<07:03, 21.25it/s]\n",
      "100%|██████████| 10/10 [07:05<00:00, 42.52s/it]\n"
     ]
    },
    {
     "data": {
      "text/plain": [
       "<auton_survival.models.dsm.DeepSurvivalMachines at 0x7f8ce97113f0>"
      ]
     },
     "execution_count": 199,
     "metadata": {},
     "output_type": "execute_result"
    }
   ],
   "source": [
    "models = []\n",
    "\n",
    "from auton_survival.models.dpsm import DeepDP\n",
    "from auton_survival.models.dsm import DeepSurvivalMachines\n",
    "\n",
    "# model = DeepDP(k=3,\n",
    "#                distribution='LogNormal',\n",
    "#                layers=[100])\n",
    "model = DeepSurvivalMachines(\n",
    "    k=4,\n",
    "    distribution=\"LogNormal\",\n",
    "    # distribution=\"Weibull\",\n",
    "    layers=[100]\n",
    ")\n",
    "# The fit method is called to train the model\n",
    "model.fit(x_train, t_train, e_train, iters=10, learning_rate=0.00001)"
   ]
  },
  {
   "cell_type": "code",
   "execution_count": 200,
   "metadata": {},
   "outputs": [
    {
     "data": {
      "text/plain": [
       "1.4342769423738015"
      ]
     },
     "execution_count": 200,
     "metadata": {},
     "output_type": "execute_result"
    }
   ],
   "source": [
    "model.compute_nll(x,t,e)"
   ]
  },
  {
   "cell_type": "code",
   "execution_count": 201,
   "metadata": {},
   "outputs": [
    {
     "name": "stdout",
     "output_type": "stream",
     "text": [
      "(10, 1062883, 4)\n",
      "0\n"
     ]
    }
   ],
   "source": [
    "trained_weights = model.trained_weights\n",
    "print(trained_weights.shape)\n",
    "print(np.isnan(trained_weights).sum())"
   ]
  },
  {
   "cell_type": "code",
   "execution_count": 204,
   "metadata": {},
   "outputs": [
    {
     "name": "stdout",
     "output_type": "stream",
     "text": [
      "For 0.25 quantile\n",
      "TD Concordance Index: 0.9324373366396348\n",
      "Brier Score: 0.10350992498128382\n",
      "ROC AUC  0.9732238958131023 \n",
      "\n",
      "For 0.5 quantile\n",
      "TD Concordance Index: 0.9246713761198861\n",
      "Brier Score: 0.16108073433949488\n",
      "ROC AUC  0.8927121975222252 \n",
      "\n",
      "For 0.75 quantile\n",
      "TD Concordance Index: 0.7641894563048602\n",
      "Brier Score: 0.16361688778662986\n",
      "ROC AUC  0.8438000579532828 \n",
      "\n"
     ]
    }
   ],
   "source": [
    "horizons = [0.25, 0.5, 0.75]\n",
    "times = np.quantile(t[e == 1], horizons).tolist()\n",
    "out_risk = model.predict_risk(x_test, times)\n",
    "out_survival = model.predict_survival(x_test, times)\n",
    "\n",
    "from sksurv.metrics import concordance_index_ipcw, brier_score, cumulative_dynamic_auc\n",
    "\n",
    "cis = []\n",
    "brs = []\n",
    "\n",
    "et_train = np.array([(e_train[i], t_train[i]) for i in range(len(e_train))],\n",
    "                 dtype = [('e', bool), ('t', float)])\n",
    "et_test = np.array([(e_test[i], t_test[i]) for i in range(len(e_test))],\n",
    "                 dtype = [('e', bool), ('t', float)])\n",
    "et_val = np.array([(e_val[i], t_val[i]) for i in range(len(e_val))],\n",
    "                 dtype = [('e', bool), ('t', float)])\n",
    "\n",
    "for i, _ in enumerate(times):\n",
    "    cis.append(concordance_index_ipcw(et_train, et_test, out_risk[:, i], times[i])[0])\n",
    "brs.append(brier_score(et_train, et_test, out_survival, times)[1])\n",
    "roc_auc = []\n",
    "for i, _ in enumerate(times):\n",
    "    roc_auc.append(cumulative_dynamic_auc(et_train, et_test, out_risk[:, i], times[i])[0])\n",
    "for horizon in enumerate(horizons):\n",
    "    print(f\"For {horizon[1]} quantile\")\n",
    "    print(\"TD Concordance Index:\", cis[horizon[0]])\n",
    "    print(\"Brier Score:\", brs[0][horizon[0]])\n",
    "    print(\"ROC AUC \", roc_auc[horizon[0]][0], \"\\n\")"
   ]
  },
  {
   "cell_type": "code",
   "execution_count": 203,
   "metadata": {},
   "outputs": [
    {
     "data": {
      "image/png": "[encoded data removed]",
      "text/plain": [
       "<Figure size 1500x500 with 3 Axes>"
      ]
     },
     "metadata": {},
     "output_type": "display_data"
    }
   ],
   "source": [
    "import seaborn as sns\n",
    "import matplotlib.pyplot as plt\n",
    "\n",
    "figs, axes = plt.subplots(1, 3, figsize=(15, 5))\n",
    "iter_idx = [7, 8, 9]\n",
    "\n",
    "for idx in range(3):\n",
    "    sns.kdeplot(trained_weights[iter_idx[idx]][:, 0], fill=True, ax=axes[idx])\n",
    "    sns.kdeplot(trained_weights[iter_idx[idx]][:, 1], fill=True, ax=axes[idx])\n",
    "    sns.kdeplot(trained_weights[iter_idx[idx]][:, 2], fill=True, ax=axes[idx])\n",
    "    sns.kdeplot(trained_weights[iter_idx[idx]][:, 3], fill=True, ax=axes[idx])\n",
    "    axes[idx].set_title(f'Iter {iter_idx[idx]}')\n",
    "    axes[idx].set_xlim(0.0, 0.5)\n",
    "\n",
    "# sns.kdeplot(trained_weights[iter_idx][:, 0], fill=True)\n",
    "# sns.kdeplot(trained_weights[iter_idx][:, 1], fill=True)\n",
    "# sns.kdeplot(trained_weights[iter_idx][:, 2], fill=True)\n",
    "# plt.title(f'Iter {iter_idx}')"
   ]
  },
  {
   "cell_type": "code",
   "execution_count": null,
   "metadata": {},
   "outputs": [],
   "source": [
    "\n",
    "TD Concordance Index: 0.9325333513784646\n",
    "Brier Score: 0.10364824241737408\n",
    "ROC AUC  0.9734904439635375 \n",
    "\n",
    "For 0.5 quantile\n",
    "TD Concordance Index: 0.9244850008995606\n",
    "Brier Score: 0.16163291091246543\n",
    "ROC AUC  0.8924014782941277 \n",
    "\n",
    "For 0.75 quantile\n",
    "TD Concordance Index: 0.7638737188439899\n",
    "Brier Score: 0.16353751920404644\n",
    "ROC AUC  0.84143167231107 "
   ]
  },
  {
   "cell_type": "code",
   "execution_count": null,
   "metadata": {},
   "outputs": [],
   "source": []
  },
  {
   "cell_type": "markdown",
   "metadata": {},
   "source": []
  }
 ],
 "metadata": {
  "kernelspec": {
   "display_name": "survival",
   "language": "python",
   "name": "python3"
  },
  "language_info": {
   "codemirror_mode": {
    "name": "ipython",
    "version": 3
   },
   "file_extension": ".py",
   "mimetype": "text/x-python",
   "name": "python",
   "nbconvert_exporter": "python",
   "pygments_lexer": "ipython3",
   "version": "3.10.13"
  }
 },
 "nbformat": 4,
 "nbformat_minor": 2
}