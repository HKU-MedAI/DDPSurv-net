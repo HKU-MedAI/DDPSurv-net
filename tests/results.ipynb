{
 "cells": [
  {
   "cell_type": "markdown",
   "metadata": {},
   "source": [
    "DDPSM K=100 SUPPORT\n",
    "\n",
    "For 0.25 quantile\n",
    "TD Concordance Index: 0.7606211848175789\n",
    "Brier Score: 0.12403848731917289\n",
    "ROC AUC  0.7680912113362941 \n",
    "\n",
    "For 0.5 quantile\n",
    "TD Concordance Index: 0.32864113929043326\n",
    "Brier Score: 0.20968558570199122\n",
    "ROC AUC  0.31868569687595205 \n",
    "\n",
    "For 0.75 quantile\n",
    "TD Concordance Index: 0.3881344392071447\n",
    "Brier Score: 0.25324350843274585\n",
    "ROC AUC  0.38094868843520935 \n",
    "\n",
    "For 0.9 quantile\n",
    "TD Concordance Index: 0.37059706069811243\n",
    "Brier Score: 0.20405953296338525\n",
    "ROC AUC  0.32070816365063914 "
   ]
  },
  {
   "cell_type": "markdown",
   "metadata": {},
   "source": [
    "DDPSM K=10 SUPPORT\n",
    "\n",
    "For 0.25 quantile\n",
    "TD Concordance Index: 0.7606211848175789\n",
    "Brier Score: 0.12403848731917289\n",
    "ROC AUC  0.7680912113362941 \n",
    "\n",
    "For 0.5 quantile\n",
    "TD Concordance Index: 0.32864113929043326\n",
    "Brier Score: 0.20968558570199122\n",
    "ROC AUC  0.31868569687595205 \n",
    "\n",
    "For 0.75 quantile\n",
    "TD Concordance Index: 0.3881344392071447\n",
    "Brier Score: 0.25324350843274585\n",
    "ROC AUC  0.38094868843520935 \n",
    "\n",
    "For 0.9 quantile\n",
    "TD Concordance Index: 0.37059706069811243\n",
    "Brier Score: 0.20405953296338525\n",
    "ROC AUC  0.32070816365063914 "
   ]
  },
  {
   "cell_type": "code",
   "execution_count": null,
   "metadata": {
    "vscode": {
     "languageId": "plaintext"
    }
   },
   "outputs": [],
   "source": [
    "DDPSM K=4 SUPPORT 1e-4\n",
    "\n",
    "For 0.25 quantile\n",
    "TD Concordance Index: 0.7606211848175789\n",
    "Brier Score: 0.12403848731917289\n",
    "ROC AUC  0.7680912113362941 \n",
    "\n",
    "For 0.5 quantile\n",
    "TD Concordance Index: 0.32864113929043326\n",
    "Brier Score: 0.20968558570199122\n",
    "ROC AUC  0.31868569687595205 \n",
    "\n",
    "For 0.75 quantile\n",
    "TD Concordance Index: 0.3881344392071447\n",
    "Brier Score: 0.25324350843274585\n",
    "ROC AUC  0.38094868843520935 \n",
    "\n",
    "For 0.9 quantile\n",
    "TD Concordance Index: 0.37059706069811243\n",
    "Brier Score: 0.20405953296338525\n",
    "ROC AUC  0.32070816365063914 "
   ]
  },
  {
   "cell_type": "markdown",
   "metadata": {},
   "source": [
    "DDPSM K=1 SUPPORT\n",
    "\n",
    "For 0.25 quantile\n",
    "TD Concordance Index: 0.7606211848175789\n",
    "Brier Score: 0.12403848731917289\n",
    "ROC AUC  0.7680912113362941 \n",
    "\n",
    "For 0.5 quantile\n",
    "TD Concordance Index: 0.32864113929043326\n",
    "Brier Score: 0.20968558570199122\n",
    "ROC AUC  0.31868569687595205 \n",
    "\n",
    "For 0.75 quantile\n",
    "TD Concordance Index: 0.3881344392071447\n",
    "Brier Score: 0.25324350843274585\n",
    "ROC AUC  0.38094868843520935 \n",
    "\n",
    "For 0.9 quantile\n",
    "TD Concordance Index: 0.37059706069811243\n",
    "Brier Score: 0.20405953296338525\n",
    "ROC AUC  0.32070816365063914 "
   ]
  }
 ],
 "metadata": {
  "language_info": {
   "name": "python"
  }
 },
 "nbformat": 4,
 "nbformat_minor": 2
}
