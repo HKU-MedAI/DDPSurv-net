{
 "cells": [
  {
   "cell_type": "code",
   "execution_count": 28,
   "metadata": {},
   "outputs": [
    {
     "name": "stdout",
     "output_type": "stream",
     "text": [
      "The autoreload extension is already loaded. To reload it, use:\n",
      "  %reload_ext autoreload\n"
     ]
    }
   ],
   "source": [
    "%load_ext autoreload\n",
    "%autoreload 1\n",
    "\n"
   ]
  },
  {
   "cell_type": "code",
   "execution_count": 2,
   "metadata": {},
   "outputs": [
    {
     "name": "stderr",
     "output_type": "stream",
     "text": [
      "100%|██████████| 18064/18064 [07:46<00:00, 38.72it/s]"
     ]
    },
    {
     "name": "stdout",
     "output_type": "stream",
     "text": [
      "0\n"
     ]
    },
    {
     "name": "stderr",
     "output_type": "stream",
     "text": [
      "\n"
     ]
    }
   ],
   "source": [
    "import pandas as pd\n",
    "import os\n",
    "from mimic3benchmarks.mimic3models.preprocessing import Discretizer\n",
    "import numpy as np\n",
    "from tqdm import tqdm\n",
    "\n",
    "dir_path  = '/data1/r10user2/EHR_dataset/mimiciv_benchmark/survival_prediction'\n",
    "\n",
    "train_path = os.path.join(dir_path , 'train_listfile.csv')\n",
    "test_path = os.path.join(dir_path , 'test_listfile.csv')\n",
    "\n",
    "train_df = pd.read_csv(train_path)\n",
    "test_df = pd.read_csv(test_path)\n",
    "\n",
    "x_train = []\n",
    "del_data = 0\n",
    "for patient_path in tqdm(train_df['stay']):\n",
    "    patient_path = os.path.join(dir_path, 'train', patient_path)\n",
    "    patient = pd.read_csv(patient_path)\n",
    "    patient = patient.fillna('')\n",
    "    data_processor = Discretizer(impute_strategy='normal_value')\n",
    "    data = data_processor.transform(np.array(patient))[0]\n",
    "    if data.shape[0]  < 60:\n",
    "        num_pad = 60 - data.shape[0]\n",
    "        #print(num_pad)\n",
    "        last_data = data[-1].repeat(num_pad,axis=0).reshape(-1,76)\n",
    "        #print(last_data.shape)\n",
    "        data = np.concatenate([data, last_data])\n",
    "\n",
    "    if data.shape[0] == 60:\n",
    "        x_train.append(data)\n",
    "    else:\n",
    "        del_data += 1\n",
    "       \n",
    "print(del_data) \n",
    "    "
   ]
  },
  {
   "cell_type": "code",
   "execution_count": 10,
   "metadata": {},
   "outputs": [],
   "source": [
    "x_train = np.array(x_train)\n",
    "t_train = np.array(train_df['survival_time'])\n",
    "e_train = np.array(train_df['censor'])\n",
    "np.save(\"x_train.npy\", x_train)\n",
    "np.save(\"t_train.npy\", t_train)\n",
    "np.save(\"e_train.npy\", e_train)"
   ]
  },
  {
   "cell_type": "code",
   "execution_count": 4,
   "metadata": {},
   "outputs": [
    {
     "data": {
      "text/plain": [
       "array([ 47.38      , 119.7       ,  22.63472222, ...,  48.59055556,\n",
       "        32.99166667,  16.94916667])"
      ]
     },
     "execution_count": 4,
     "metadata": {},
     "output_type": "execute_result"
    }
   ],
   "source": [
    "t_train"
   ]
  },
  {
   "cell_type": "code",
   "execution_count": 11,
   "metadata": {},
   "outputs": [
    {
     "name": "stderr",
     "output_type": "stream",
     "text": [
      "  0%|          | 0/4972 [00:00<?, ?it/s]"
     ]
    },
    {
     "name": "stderr",
     "output_type": "stream",
     "text": [
      "100%|██████████| 4972/4972 [01:19<00:00, 62.85it/s]\n"
     ]
    },
    {
     "name": "stdout",
     "output_type": "stream",
     "text": [
      "0\n"
     ]
    }
   ],
   "source": [
    "x_test = []\n",
    "del_data = 0\n",
    "for patient_path in tqdm(test_df['stay']):\n",
    "    patient_path = os.path.join(dir_path, 'test', patient_path)\n",
    "    patient = pd.read_csv(patient_path)\n",
    "    patient = patient.fillna('')\n",
    "    data_processor = Discretizer(impute_strategy='normal_value')\n",
    "    data = data_processor.transform(np.array(patient))[0]\n",
    "    if data.shape[0]  < 60:\n",
    "        num_pad = 60 - data.shape[0]\n",
    "        #print(num_pad)\n",
    "        last_data = data[-1].repeat(num_pad,axis=0).reshape(-1,76)\n",
    "        #print(last_data.shape)\n",
    "        data = np.concatenate([data, last_data])\n",
    "\n",
    "    if data.shape[0] == 60:\n",
    "        x_test.append(data)\n",
    "    else:\n",
    "        del_data += 1\n",
    "       \n",
    "print(del_data) "
   ]
  },
  {
   "cell_type": "code",
   "execution_count": 12,
   "metadata": {},
   "outputs": [],
   "source": [
    "x_test = np.array(x_test)\n",
    "t_test = np.array(test_df['survival_time'])\n",
    "e_test = np.array(test_df['censor'])\n",
    "np.save(\"x_test.npy\", x_test)\n",
    "np.save(\"t_test.npy\", t_test)\n",
    "np.save(\"e_test.npy\", e_test)"
   ]
  },
  {
   "cell_type": "code",
   "execution_count": 6,
   "metadata": {},
   "outputs": [
    {
     "name": "stdout",
     "output_type": "stream",
     "text": [
      "(18064, 60, 76)\n",
      "(18064,)\n"
     ]
    }
   ],
   "source": [
    "print(x_train.shape)\n",
    "print(t_train.shape)"
   ]
  },
  {
   "cell_type": "code",
   "execution_count": 25,
   "metadata": {},
   "outputs": [],
   "source": [
    "import torch.nn as nn\n",
    "import torch.nn.functional as F\n",
    "import torch\n",
    "\n",
    "def LSTM_transform(x):\n",
    "    device = torch.device('cuda:0' if torch.cuda.is_available() else 'cpu')\n",
    "    x = torch.from_numpy(x)\n",
    "    x = x.to(torch.float32)\n",
    "    x = x.to(device)\n",
    "    embedding = nn.LSTM(input_size = 76, hidden_size = 76, num_layers = 2, batch_first = True).to(device)\n",
    "    x_rep = embedding(x)\n",
    "    return x_rep\n"
   ]
  },
  {
   "cell_type": "code",
   "execution_count": 26,
   "metadata": {},
   "outputs": [
    {
     "ename": "OutOfMemoryError",
     "evalue": "CUDA out of memory. Tried to allocate 3.38 GiB (GPU 0; 23.70 GiB total capacity; 19.56 GiB already allocated; 1.25 GiB free; 20.09 GiB reserved in total by PyTorch) If reserved memory is >> allocated memory try setting max_split_size_mb to avoid fragmentation.  See documentation for Memory Management and PYTORCH_CUDA_ALLOC_CONF",
     "output_type": "error",
     "traceback": [
      "\u001b[0;31m---------------------------------------------------------------------------\u001b[0m",
      "\u001b[0;31mOutOfMemoryError\u001b[0m                          Traceback (most recent call last)",
      "Cell \u001b[0;32mIn[26], line 1\u001b[0m\n\u001b[0;32m----> 1\u001b[0m x_rep \u001b[38;5;241m=\u001b[39m \u001b[43mLSTM_transform\u001b[49m\u001b[43m(\u001b[49m\u001b[43mx_train\u001b[49m\u001b[43m)\u001b[49m\n\u001b[1;32m      2\u001b[0m x_rep[\u001b[38;5;241m0\u001b[39m]\u001b[38;5;241m.\u001b[39mastype\n",
      "Cell \u001b[0;32mIn[25], line 11\u001b[0m, in \u001b[0;36mLSTM_transform\u001b[0;34m(x)\u001b[0m\n\u001b[1;32m      9\u001b[0m x \u001b[38;5;241m=\u001b[39m x\u001b[38;5;241m.\u001b[39mto(device)\n\u001b[1;32m     10\u001b[0m embedding \u001b[38;5;241m=\u001b[39m nn\u001b[38;5;241m.\u001b[39mLSTM(input_size \u001b[38;5;241m=\u001b[39m \u001b[38;5;241m76\u001b[39m, hidden_size \u001b[38;5;241m=\u001b[39m \u001b[38;5;241m76\u001b[39m, num_layers \u001b[38;5;241m=\u001b[39m \u001b[38;5;241m2\u001b[39m, batch_first \u001b[38;5;241m=\u001b[39m \u001b[38;5;28;01mTrue\u001b[39;00m)\u001b[38;5;241m.\u001b[39mto(device)\n\u001b[0;32m---> 11\u001b[0m x_rep \u001b[38;5;241m=\u001b[39m \u001b[43membedding\u001b[49m\u001b[43m(\u001b[49m\u001b[43mx\u001b[49m\u001b[43m)\u001b[49m\n\u001b[1;32m     12\u001b[0m \u001b[38;5;28;01mreturn\u001b[39;00m x_rep\n",
      "File \u001b[0;32m~/Documents/anaconda3/envs/python310/lib/python3.10/site-packages/torch/nn/modules/module.py:1194\u001b[0m, in \u001b[0;36mModule._call_impl\u001b[0;34m(self, *input, **kwargs)\u001b[0m\n\u001b[1;32m   1190\u001b[0m \u001b[38;5;66;03m# If we don't have any hooks, we want to skip the rest of the logic in\u001b[39;00m\n\u001b[1;32m   1191\u001b[0m \u001b[38;5;66;03m# this function, and just call forward.\u001b[39;00m\n\u001b[1;32m   1192\u001b[0m \u001b[38;5;28;01mif\u001b[39;00m \u001b[38;5;129;01mnot\u001b[39;00m (\u001b[38;5;28mself\u001b[39m\u001b[38;5;241m.\u001b[39m_backward_hooks \u001b[38;5;129;01mor\u001b[39;00m \u001b[38;5;28mself\u001b[39m\u001b[38;5;241m.\u001b[39m_forward_hooks \u001b[38;5;129;01mor\u001b[39;00m \u001b[38;5;28mself\u001b[39m\u001b[38;5;241m.\u001b[39m_forward_pre_hooks \u001b[38;5;129;01mor\u001b[39;00m _global_backward_hooks\n\u001b[1;32m   1193\u001b[0m         \u001b[38;5;129;01mor\u001b[39;00m _global_forward_hooks \u001b[38;5;129;01mor\u001b[39;00m _global_forward_pre_hooks):\n\u001b[0;32m-> 1194\u001b[0m     \u001b[38;5;28;01mreturn\u001b[39;00m \u001b[43mforward_call\u001b[49m\u001b[43m(\u001b[49m\u001b[38;5;241;43m*\u001b[39;49m\u001b[38;5;28;43minput\u001b[39;49m\u001b[43m,\u001b[49m\u001b[43m \u001b[49m\u001b[38;5;241;43m*\u001b[39;49m\u001b[38;5;241;43m*\u001b[39;49m\u001b[43mkwargs\u001b[49m\u001b[43m)\u001b[49m\n\u001b[1;32m   1195\u001b[0m \u001b[38;5;66;03m# Do not call functions when jit is used\u001b[39;00m\n\u001b[1;32m   1196\u001b[0m full_backward_hooks, non_full_backward_hooks \u001b[38;5;241m=\u001b[39m [], []\n",
      "File \u001b[0;32m~/Documents/anaconda3/envs/python310/lib/python3.10/site-packages/torch/nn/modules/rnn.py:774\u001b[0m, in \u001b[0;36mLSTM.forward\u001b[0;34m(self, input, hx)\u001b[0m\n\u001b[1;32m    772\u001b[0m \u001b[38;5;28mself\u001b[39m\u001b[38;5;241m.\u001b[39mcheck_forward_args(\u001b[38;5;28minput\u001b[39m, hx, batch_sizes)\n\u001b[1;32m    773\u001b[0m \u001b[38;5;28;01mif\u001b[39;00m batch_sizes \u001b[38;5;129;01mis\u001b[39;00m \u001b[38;5;28;01mNone\u001b[39;00m:\n\u001b[0;32m--> 774\u001b[0m     result \u001b[38;5;241m=\u001b[39m \u001b[43m_VF\u001b[49m\u001b[38;5;241;43m.\u001b[39;49m\u001b[43mlstm\u001b[49m\u001b[43m(\u001b[49m\u001b[38;5;28;43minput\u001b[39;49m\u001b[43m,\u001b[49m\u001b[43m \u001b[49m\u001b[43mhx\u001b[49m\u001b[43m,\u001b[49m\u001b[43m \u001b[49m\u001b[38;5;28;43mself\u001b[39;49m\u001b[38;5;241;43m.\u001b[39;49m\u001b[43m_flat_weights\u001b[49m\u001b[43m,\u001b[49m\u001b[43m \u001b[49m\u001b[38;5;28;43mself\u001b[39;49m\u001b[38;5;241;43m.\u001b[39;49m\u001b[43mbias\u001b[49m\u001b[43m,\u001b[49m\u001b[43m \u001b[49m\u001b[38;5;28;43mself\u001b[39;49m\u001b[38;5;241;43m.\u001b[39;49m\u001b[43mnum_layers\u001b[49m\u001b[43m,\u001b[49m\n\u001b[1;32m    775\u001b[0m \u001b[43m                      \u001b[49m\u001b[38;5;28;43mself\u001b[39;49m\u001b[38;5;241;43m.\u001b[39;49m\u001b[43mdropout\u001b[49m\u001b[43m,\u001b[49m\u001b[43m \u001b[49m\u001b[38;5;28;43mself\u001b[39;49m\u001b[38;5;241;43m.\u001b[39;49m\u001b[43mtraining\u001b[49m\u001b[43m,\u001b[49m\u001b[43m \u001b[49m\u001b[38;5;28;43mself\u001b[39;49m\u001b[38;5;241;43m.\u001b[39;49m\u001b[43mbidirectional\u001b[49m\u001b[43m,\u001b[49m\u001b[43m \u001b[49m\u001b[38;5;28;43mself\u001b[39;49m\u001b[38;5;241;43m.\u001b[39;49m\u001b[43mbatch_first\u001b[49m\u001b[43m)\u001b[49m\n\u001b[1;32m    776\u001b[0m \u001b[38;5;28;01melse\u001b[39;00m:\n\u001b[1;32m    777\u001b[0m     result \u001b[38;5;241m=\u001b[39m _VF\u001b[38;5;241m.\u001b[39mlstm(\u001b[38;5;28minput\u001b[39m, batch_sizes, hx, \u001b[38;5;28mself\u001b[39m\u001b[38;5;241m.\u001b[39m_flat_weights, \u001b[38;5;28mself\u001b[39m\u001b[38;5;241m.\u001b[39mbias,\n\u001b[1;32m    778\u001b[0m                       \u001b[38;5;28mself\u001b[39m\u001b[38;5;241m.\u001b[39mnum_layers, \u001b[38;5;28mself\u001b[39m\u001b[38;5;241m.\u001b[39mdropout, \u001b[38;5;28mself\u001b[39m\u001b[38;5;241m.\u001b[39mtraining, \u001b[38;5;28mself\u001b[39m\u001b[38;5;241m.\u001b[39mbidirectional)\n",
      "\u001b[0;31mOutOfMemoryError\u001b[0m: CUDA out of memory. Tried to allocate 3.38 GiB (GPU 0; 23.70 GiB total capacity; 19.56 GiB already allocated; 1.25 GiB free; 20.09 GiB reserved in total by PyTorch) If reserved memory is >> allocated memory try setting max_split_size_mb to avoid fragmentation.  See documentation for Memory Management and PYTORCH_CUDA_ALLOC_CONF"
     ]
    }
   ],
   "source": [
    "x_rep = LSTM_transform(x_train)\n",
    "x_rep[0].astype"
   ]
  },
  {
   "cell_type": "code",
   "execution_count": 9,
   "metadata": {},
   "outputs": [],
   "source": [
    "import numpy as np\n",
    "x_train = np.load('x_train.npy')[:500]\n",
    "t_train = np.load('t_train.npy')[:500]\n",
    "e_train = np.load('e_train.npy')"
   ]
  },
  {
   "cell_type": "code",
   "execution_count": 11,
   "metadata": {},
   "outputs": [
    {
     "name": "stdout",
     "output_type": "stream",
     "text": [
      "0.8774911426040743\n"
     ]
    }
   ],
   "source": [
    "print(e_train.sum()/len(e_train))"
   ]
  },
  {
   "cell_type": "code",
   "execution_count": 2,
   "metadata": {},
   "outputs": [
    {
     "data": {
      "text/plain": [
       "0"
      ]
     },
     "execution_count": 2,
     "metadata": {},
     "output_type": "execute_result"
    }
   ],
   "source": [
    "np.isnan(x_train).sum()"
   ]
  },
  {
   "cell_type": "code",
   "execution_count": 3,
   "metadata": {},
   "outputs": [
    {
     "data": {
      "text/plain": [
       "0"
      ]
     },
     "execution_count": 3,
     "metadata": {},
     "output_type": "execute_result"
    }
   ],
   "source": [
    "np.isnan(t_train).sum()"
   ]
  },
  {
   "cell_type": "code",
   "execution_count": 4,
   "metadata": {},
   "outputs": [
    {
     "data": {
      "text/plain": [
       "0"
      ]
     },
     "execution_count": 4,
     "metadata": {},
     "output_type": "execute_result"
    }
   ],
   "source": [
    "np.isnan(e_train).sum()"
   ]
  },
  {
   "cell_type": "code",
   "execution_count": 5,
   "metadata": {},
   "outputs": [
    {
     "name": "stderr",
     "output_type": "stream",
     "text": [
      "/home/r10user10/Documents/anaconda3/envs/python310/lib/python3.10/site-packages/tqdm/auto.py:21: TqdmWarning: IProgress not found. Please update jupyter and ipywidgets. See https://ipywidgets.readthedocs.io/en/stable/user_install.html\n",
      "  from .autonotebook import tqdm as notebook_tqdm\n",
      "  0%|          | 3/10000 [00:00<07:48, 21.34it/s]\n"
     ]
    },
    {
     "name": "stdout",
     "output_type": "stream",
     "text": [
      "is f nana tensor(1)\n",
      "is s nana tensor(1)\n",
      "0\n",
      "tensor(True)\n",
      "is f nana tensor(0)\n",
      "is s nana tensor(0)\n",
      "is f nana tensor(1)\n",
      "is s nana tensor(1)\n",
      "0\n",
      "tensor(True)\n",
      "is f nana tensor(0)\n",
      "is s nana tensor(0)\n",
      "is f nana tensor(1)\n",
      "is s nana tensor(1)\n",
      "0\n",
      "tensor(True)\n",
      "is f nana tensor(0)\n",
      "is s nana tensor(0)\n",
      "is f nana tensor(1)\n",
      "is s nana tensor(1)\n",
      "0\n",
      "tensor(True)\n",
      "is f nana tensor(0)\n",
      "is s nana tensor(0)\n"
     ]
    },
    {
     "name": "stderr",
     "output_type": "stream",
     "text": [
      "100%|██████████| 1/1 [00:56<00:00, 56.73s/it]\n"
     ]
    },
    {
     "data": {
      "text/plain": [
       "<auton_survival.models.dsm.DeepSurvivalMachines at 0x7f74df2abbe0>"
      ]
     },
     "execution_count": 5,
     "metadata": {},
     "output_type": "execute_result"
    }
   ],
   "source": [
    "models = []\n",
    "\n",
    "from auton_survival.models.dsm import DeepRecurrentSurvivalMachines\n",
    "from auton_survival.models.dsm import DeepSurvivalMachines\n",
    "\n",
    "# model = DeepRecurrentSurvivalMachines(k=3,\n",
    "#                distribution='LogNormal',\n",
    "#                layers=10)\n",
    "model = DeepSurvivalMachines(\n",
    "    k=4,\n",
    "    distribution=\"LogNormal\",\n",
    "    layers=[76]\n",
    ")\n",
    "# The fit method is called to train the model\n",
    "model.fit(x_train, t_train, e_train, iters=1, learning_rate=1e-5)\n",
    "\n",
    "\n",
    "\n",
    "\n",
    "\n",
    "\n"
   ]
  },
  {
   "cell_type": "code",
   "execution_count": 6,
   "metadata": {},
   "outputs": [
    {
     "name": "stdout",
     "output_type": "stream",
     "text": [
      "(1, 425, 4)\n",
      "500\n"
     ]
    }
   ],
   "source": [
    "trained_weights = model.trained_weights\n",
    "print(trained_weights.shape)\n",
    "print(np.isnan(trained_weights).sum())"
   ]
  },
  {
   "cell_type": "code",
   "execution_count": 7,
   "metadata": {},
   "outputs": [
    {
     "ename": "NameError",
     "evalue": "name 't' is not defined",
     "output_type": "error",
     "traceback": [
      "\u001b[0;31m---------------------------------------------------------------------------\u001b[0m",
      "\u001b[0;31mNameError\u001b[0m                                 Traceback (most recent call last)",
      "Cell \u001b[0;32mIn[7], line 2\u001b[0m\n\u001b[1;32m      1\u001b[0m horizons \u001b[38;5;241m=\u001b[39m [\u001b[38;5;241m0.25\u001b[39m, \u001b[38;5;241m0.5\u001b[39m, \u001b[38;5;241m0.75\u001b[39m]\n\u001b[0;32m----> 2\u001b[0m times \u001b[38;5;241m=\u001b[39m np\u001b[38;5;241m.\u001b[39mquantile(\u001b[43mt\u001b[49m[e \u001b[38;5;241m==\u001b[39m \u001b[38;5;241m1\u001b[39m], horizons)\u001b[38;5;241m.\u001b[39mtolist()\n\u001b[1;32m      3\u001b[0m out_risk \u001b[38;5;241m=\u001b[39m model\u001b[38;5;241m.\u001b[39mpredict_risk(x_test, times)\n\u001b[1;32m      4\u001b[0m out_survival \u001b[38;5;241m=\u001b[39m model\u001b[38;5;241m.\u001b[39mpredict_survival(x_test, times)\n",
      "\u001b[0;31mNameError\u001b[0m: name 't' is not defined"
     ]
    }
   ],
   "source": [
    "horizons = [0.25, 0.5, 0.75]\n",
    "times = np.quantile(t[e == 1], horizons).tolist()\n",
    "out_risk = model.predict_risk(x_test, times)\n",
    "out_survival = model.predict_survival(x_test, times)\n",
    "\n",
    "from sksurv.metrics import concordance_index_ipcw, brier_score, cumulative_dynamic_auc\n",
    "\n",
    "cis = []\n",
    "brs = []\n",
    "\n",
    "et_train = np.array([(e_train[i], t_train[i]) for i in range(len(e_train))],\n",
    "                 dtype = [('e', bool), ('t', float)])\n",
    "et_test = np.array([(e_test[i], t_test[i]) for i in range(len(e_test))],\n",
    "                 dtype = [('e', bool), ('t', float)])\n",
    "# et_val = np.array([(e_val[i], t_val[i]) for i in range(len(e_val))],\n",
    "#                  dtype = [('e', bool), ('t', float)])\n",
    "\n",
    "for i, _ in enumerate(times):\n",
    "    cis.append(concordance_index_ipcw(et_train, et_test, out_risk[:, i], times[i])[0])\n",
    "brs.append(brier_score(et_train, et_test, out_survival, times)[1])\n",
    "roc_auc = []\n",
    "for i, _ in enumerate(times):\n",
    "    roc_auc.append(cumulative_dynamic_auc(et_train, et_test, out_risk[:, i], times[i])[0])\n",
    "for horizon in enumerate(horizons):\n",
    "    print(f\"For {horizon[1]} quantile\")\n",
    "    print(\"TD Concordance Index:\", cis[horizon[0]])\n",
    "    print(\"Brier Score:\", brs[0][horizon[0]])\n",
    "    print(\"ROC AUC \", roc_auc[horizon[0]][0], \"\\n\")"
   ]
  },
  {
   "cell_type": "code",
   "execution_count": null,
   "metadata": {},
   "outputs": [],
   "source": [
    "import seaborn as sns\n",
    "import matplotlib.pyplot as plt\n",
    "\n",
    "figs, axes = plt.subplots(1, 3, figsize=(15, 5))\n",
    "iter_idx = [97, 98, 99]\n",
    "\n",
    "for idx in range(3):\n",
    "    sns.kdeplot(trained_weights[iter_idx[idx]][:, 0], fill=True, ax=axes[idx])\n",
    "    sns.kdeplot(trained_weights[iter_idx[idx]][:, 1], fill=True, ax=axes[idx])\n",
    "    sns.kdeplot(trained_weights[iter_idx[idx]][:, 2], fill=True, ax=axes[idx])\n",
    "    sns.kdeplot(trained_weights[iter_idx[idx]][:, 3], fill=True, ax=axes[idx])\n",
    "    axes[idx].set_title(f'Iter {iter_idx[idx]}')\n",
    "    axes[idx].set_xlim(0.15, 0.4)"
   ]
  }
 ],
 "metadata": {
  "kernelspec": {
   "display_name": "python310",
   "language": "python",
   "name": "python3"
  },
  "language_info": {
   "codemirror_mode": {
    "name": "ipython",
    "version": 3
   },
   "file_extension": ".py",
   "mimetype": "text/x-python",
   "name": "python",
   "nbconvert_exporter": "python",
   "pygments_lexer": "ipython3",
   "version": "3.10.13"
  }
 },
 "nbformat": 4,
 "nbformat_minor": 2
}
